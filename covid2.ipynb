{
 "cells": [
  {
   "cell_type": "code",
   "execution_count": null,
   "id": "79893471",
   "metadata": {},
   "outputs": [],
   "source": [
    "'Ainda sem os comentários necessários -> acrescentar depois + read.me!!'\n",
    "\n",
    "'Secunda versão Analise Covid -> analisar o arquivo csv do COVID, \n",
    "'criando agrupamentos por ano, mes, dia, estado, país e fazer uma análise'\n",
    "\n",
    "'31/05'\n",
    "'Versão incompleta!'"
   ]
  },
  {
   "cell_type": "code",
   "execution_count": 99,
   "id": "6491b41e",
   "metadata": {},
   "outputs": [],
   "source": [
    "from pyspark.sql import SparkSession"
   ]
  },
  {
   "cell_type": "code",
   "execution_count": 100,
   "id": "7130a77e",
   "metadata": {},
   "outputs": [],
   "source": [
    "spark = SparkSession.builder.appName(\"covid2\").getOrCreate();"
   ]
  },
  {
   "cell_type": "code",
   "execution_count": 101,
   "id": "fc1ef7ed",
   "metadata": {},
   "outputs": [],
   "source": [
    "dfcovid = spark.read.csv('covid_19_data.csv', inferSchema=True, header=True)"
   ]
  },
  {
   "cell_type": "code",
   "execution_count": 102,
   "id": "a69d554e",
   "metadata": {},
   "outputs": [
    {
     "data": {
      "text/plain": [
       "pyspark.sql.dataframe.DataFrame"
      ]
     },
     "execution_count": 102,
     "metadata": {},
     "output_type": "execute_result"
    }
   ],
   "source": [
    "type(dfcovid)"
   ]
  },
  {
   "cell_type": "code",
   "execution_count": 103,
   "id": "9a507b57",
   "metadata": {},
   "outputs": [
    {
     "name": "stdout",
     "output_type": "stream",
     "text": [
      "root\n",
      " |-- SNo: integer (nullable = true)\n",
      " |-- ObservationDate: string (nullable = true)\n",
      " |-- Province/State: string (nullable = true)\n",
      " |-- Country/Region: string (nullable = true)\n",
      " |-- Last Update: string (nullable = true)\n",
      " |-- Confirmed: double (nullable = true)\n",
      " |-- Deaths: double (nullable = true)\n",
      " |-- Recovered: double (nullable = true)\n",
      "\n"
     ]
    }
   ],
   "source": [
    "dfcovid.printSchema()"
   ]
  },
  {
   "cell_type": "code",
   "execution_count": 104,
   "id": "8d3d440b",
   "metadata": {},
   "outputs": [
    {
     "data": {
      "text/plain": [
       "['SNo',\n",
       " 'ObservationDate',\n",
       " 'Province/State',\n",
       " 'Country/Region',\n",
       " 'Last Update',\n",
       " 'Confirmed',\n",
       " 'Deaths',\n",
       " 'Recovered']"
      ]
     },
     "execution_count": 104,
     "metadata": {},
     "output_type": "execute_result"
    }
   ],
   "source": [
    "dfcovid.columns"
   ]
  },
  {
   "cell_type": "code",
   "execution_count": 105,
   "id": "49b52c09",
   "metadata": {},
   "outputs": [
    {
     "name": "stdout",
     "output_type": "stream",
     "text": [
      "+---+---------------+--------------+--------------+---------------+---------+------+---------+\n",
      "|SNo|ObservationDate|Province/State|Country/Region|    Last Update|Confirmed|Deaths|Recovered|\n",
      "+---+---------------+--------------+--------------+---------------+---------+------+---------+\n",
      "|  1|     01/22/2020|         Anhui|Mainland China|1/22/2020 17:00|      1.0|   0.0|      0.0|\n",
      "|  2|     01/22/2020|       Beijing|Mainland China|1/22/2020 17:00|     14.0|   0.0|      0.0|\n",
      "|  3|     01/22/2020|     Chongqing|Mainland China|1/22/2020 17:00|      6.0|   0.0|      0.0|\n",
      "|  4|     01/22/2020|        Fujian|Mainland China|1/22/2020 17:00|      1.0|   0.0|      0.0|\n",
      "|  5|     01/22/2020|         Gansu|Mainland China|1/22/2020 17:00|      0.0|   0.0|      0.0|\n",
      "+---+---------------+--------------+--------------+---------------+---------+------+---------+\n",
      "only showing top 5 rows\n",
      "\n"
     ]
    }
   ],
   "source": [
    "dfcovid.show(5)"
   ]
  },
  {
   "cell_type": "code",
   "execution_count": 106,
   "id": "957b234a",
   "metadata": {},
   "outputs": [],
   "source": [
    "from pyspark.sql.functions import when,col"
   ]
  },
  {
   "cell_type": "code",
   "execution_count": 107,
   "id": "e32d248b",
   "metadata": {},
   "outputs": [],
   "source": [
    "from pyspark.sql import SQLContext"
   ]
  },
  {
   "cell_type": "code",
   "execution_count": 108,
   "id": "009ba899",
   "metadata": {},
   "outputs": [],
   "source": [
    "from pyspark.sql.functions import format_number"
   ]
  },
  {
   "cell_type": "code",
   "execution_count": 109,
   "id": "7d51534c",
   "metadata": {},
   "outputs": [],
   "source": [
    "from pyspark.sql.functions import year"
   ]
  },
  {
   "cell_type": "code",
   "execution_count": 110,
   "id": "3b63dc04",
   "metadata": {},
   "outputs": [],
   "source": [
    "from pyspark.sql.functions import unix_timestamp,col, to_date"
   ]
  },
  {
   "cell_type": "code",
   "execution_count": 111,
   "id": "a02026c1",
   "metadata": {},
   "outputs": [],
   "source": [
    "from pyspark.sql.functions import month"
   ]
  },
  {
   "cell_type": "code",
   "execution_count": 112,
   "id": "54d3ebb9",
   "metadata": {},
   "outputs": [],
   "source": [
    "from pyspark.sql.functions import dayofmonth"
   ]
  },
  {
   "cell_type": "code",
   "execution_count": 113,
   "id": "a00dfe0a",
   "metadata": {},
   "outputs": [],
   "source": [
    "from pyspark.sql.functions import max, min"
   ]
  },
  {
   "cell_type": "code",
   "execution_count": 114,
   "id": "604ba7df",
   "metadata": {},
   "outputs": [],
   "source": [
    "from pyspark.sql import SparkSession\n"
   ]
  },
  {
   "cell_type": "code",
   "execution_count": 115,
   "id": "306dd8a8",
   "metadata": {},
   "outputs": [],
   "source": [
    "from pyspark.sql.functions import *"
   ]
  },
  {
   "cell_type": "code",
   "execution_count": 116,
   "id": "e0effc6c",
   "metadata": {},
   "outputs": [],
   "source": [
    "from pyspark.sql.functions import max, min"
   ]
  },
  {
   "cell_type": "code",
   "execution_count": 117,
   "id": "63dc31fd",
   "metadata": {},
   "outputs": [],
   "source": [
    "from pyspark.sql.functions import col, desc"
   ]
  },
  {
   "cell_type": "code",
   "execution_count": 118,
   "id": "7d1a84b7",
   "metadata": {},
   "outputs": [],
   "source": [
    "dfcovid.createOrReplaceTempView(\"coronaTable\")"
   ]
  },
  {
   "cell_type": "code",
   "execution_count": 119,
   "id": "6c671e4c",
   "metadata": {},
   "outputs": [],
   "source": [
    "sql = spark.sql(\"select * from coronaTable where `Province/State` is null\")"
   ]
  },
  {
   "cell_type": "code",
   "execution_count": 34,
   "id": "b7fde26a",
   "metadata": {},
   "outputs": [],
   "source": [
    "dfcovid = dfcovid.withColumn( 'Province/State', when ( col ('Province/State').isNull() , 'N/A' ).otherwise(dfcovid['Province/State'])   )"
   ]
  },
  {
   "cell_type": "code",
   "execution_count": 36,
   "id": "01db3d5a",
   "metadata": {},
   "outputs": [
    {
     "name": "stdout",
     "output_type": "stream",
     "text": [
      "+---+---------------+--------------+--------------+-----------+---------+------+---------+\n",
      "|SNo|ObservationDate|Province/State|Country/Region|Last Update|Confirmed|Deaths|Recovered|\n",
      "+---+---------------+--------------+--------------+-----------+---------+------+---------+\n",
      "+---+---------------+--------------+--------------+-----------+---------+------+---------+\n",
      "\n"
     ]
    }
   ],
   "source": [
    "dfcovid.filter ( dfcovid['Province/State'].isNull() ).show()"
   ]
  },
  {
   "cell_type": "code",
   "execution_count": 38,
   "id": "1440192e",
   "metadata": {},
   "outputs": [
    {
     "data": {
      "text/plain": [
       "pyspark.sql.dataframe.DataFrame"
      ]
     },
     "execution_count": 38,
     "metadata": {},
     "output_type": "execute_result"
    }
   ],
   "source": [
    "type(sql)"
   ]
  },
  {
   "cell_type": "code",
   "execution_count": 43,
   "id": "abaa050d",
   "metadata": {},
   "outputs": [],
   "source": [
    "dfcovid = dfcovid.withColumn(\"Last Update\" , dfcovid[\"Last Update\"] )"
   ]
  },
  {
   "cell_type": "code",
   "execution_count": 44,
   "id": "3512050c",
   "metadata": {},
   "outputs": [
    {
     "name": "stdout",
     "output_type": "stream",
     "text": [
      "+---+---------------+--------------+--------------+---------------+---------+------+---------+\n",
      "|SNo|ObservationDate|Province/State|Country/Region|    Last Update|Confirmed|Deaths|Recovered|\n",
      "+---+---------------+--------------+--------------+---------------+---------+------+---------+\n",
      "|  1|     01/22/2020|         Anhui|Mainland China|1/22/2020 17:00|      1.0|   0.0|      0.0|\n",
      "|  2|     01/22/2020|       Beijing|Mainland China|1/22/2020 17:00|     14.0|   0.0|      0.0|\n",
      "|  3|     01/22/2020|     Chongqing|Mainland China|1/22/2020 17:00|      6.0|   0.0|      0.0|\n",
      "|  4|     01/22/2020|        Fujian|Mainland China|1/22/2020 17:00|      1.0|   0.0|      0.0|\n",
      "|  5|     01/22/2020|         Gansu|Mainland China|1/22/2020 17:00|      0.0|   0.0|      0.0|\n",
      "|  6|     01/22/2020|     Guangdong|Mainland China|1/22/2020 17:00|     26.0|   0.0|      0.0|\n",
      "|  7|     01/22/2020|       Guangxi|Mainland China|1/22/2020 17:00|      2.0|   0.0|      0.0|\n",
      "|  8|     01/22/2020|       Guizhou|Mainland China|1/22/2020 17:00|      1.0|   0.0|      0.0|\n",
      "|  9|     01/22/2020|        Hainan|Mainland China|1/22/2020 17:00|      4.0|   0.0|      0.0|\n",
      "| 10|     01/22/2020|         Hebei|Mainland China|1/22/2020 17:00|      1.0|   0.0|      0.0|\n",
      "| 11|     01/22/2020|  Heilongjiang|Mainland China|1/22/2020 17:00|      0.0|   0.0|      0.0|\n",
      "| 12|     01/22/2020|         Henan|Mainland China|1/22/2020 17:00|      5.0|   0.0|      0.0|\n",
      "| 13|     01/22/2020|     Hong Kong|     Hong Kong|1/22/2020 17:00|      0.0|   0.0|      0.0|\n",
      "| 14|     01/22/2020|         Hubei|Mainland China|1/22/2020 17:00|    444.0|  17.0|     28.0|\n",
      "| 15|     01/22/2020|         Hunan|Mainland China|1/22/2020 17:00|      4.0|   0.0|      0.0|\n",
      "| 16|     01/22/2020|Inner Mongolia|Mainland China|1/22/2020 17:00|      0.0|   0.0|      0.0|\n",
      "| 17|     01/22/2020|       Jiangsu|Mainland China|1/22/2020 17:00|      1.0|   0.0|      0.0|\n",
      "| 18|     01/22/2020|       Jiangxi|Mainland China|1/22/2020 17:00|      2.0|   0.0|      0.0|\n",
      "| 19|     01/22/2020|         Jilin|Mainland China|1/22/2020 17:00|      0.0|   0.0|      0.0|\n",
      "| 20|     01/22/2020|      Liaoning|Mainland China|1/22/2020 17:00|      2.0|   0.0|      0.0|\n",
      "+---+---------------+--------------+--------------+---------------+---------+------+---------+\n",
      "only showing top 20 rows\n",
      "\n"
     ]
    }
   ],
   "source": [
    "dfcovid.show()"
   ]
  },
  {
   "cell_type": "code",
   "execution_count": 61,
   "id": "10d30e1a",
   "metadata": {},
   "outputs": [
    {
     "name": "stdout",
     "output_type": "stream",
     "text": [
      "+---------------+\n",
      "|ObservationDate|\n",
      "+---------------+\n",
      "|     2021-06-01|\n",
      "+---------------+\n",
      "only showing top 1 row\n",
      "\n"
     ]
    }
   ],
   "source": [
    "#Semana 'corrente' deste ano-> ainda não pega os dados de ObservationDate, está errado!\n",
    "dfcovid.select(current_date().alias(\"ObservationDate\")\n",
    "  ).show(1)"
   ]
  },
  {
   "cell_type": "code",
   "execution_count": 63,
   "id": "d34e7f27",
   "metadata": {},
   "outputs": [
    {
     "name": "stdout",
     "output_type": "stream",
     "text": [
      "+---------------+----+-----+--------+----------+\n",
      "|ObservationDate|year|month|next_day|weekofyear|\n",
      "+---------------+----+-----+--------+----------+\n",
      "|     01/22/2020|null| null|    null|      null|\n",
      "|     01/22/2020|null| null|    null|      null|\n",
      "|     01/22/2020|null| null|    null|      null|\n",
      "|     01/22/2020|null| null|    null|      null|\n",
      "|     01/22/2020|null| null|    null|      null|\n",
      "|     01/22/2020|null| null|    null|      null|\n",
      "|     01/22/2020|null| null|    null|      null|\n",
      "|     01/22/2020|null| null|    null|      null|\n",
      "|     01/22/2020|null| null|    null|      null|\n",
      "|     01/22/2020|null| null|    null|      null|\n",
      "|     01/22/2020|null| null|    null|      null|\n",
      "|     01/22/2020|null| null|    null|      null|\n",
      "|     01/22/2020|null| null|    null|      null|\n",
      "|     01/22/2020|null| null|    null|      null|\n",
      "|     01/22/2020|null| null|    null|      null|\n",
      "|     01/22/2020|null| null|    null|      null|\n",
      "|     01/22/2020|null| null|    null|      null|\n",
      "|     01/22/2020|null| null|    null|      null|\n",
      "|     01/22/2020|null| null|    null|      null|\n",
      "|     01/22/2020|null| null|    null|      null|\n",
      "|     01/22/2020|null| null|    null|      null|\n",
      "|     01/22/2020|null| null|    null|      null|\n",
      "|     01/22/2020|null| null|    null|      null|\n",
      "|     01/22/2020|null| null|    null|      null|\n",
      "|     01/22/2020|null| null|    null|      null|\n",
      "|     01/22/2020|null| null|    null|      null|\n",
      "|     01/22/2020|null| null|    null|      null|\n",
      "|     01/22/2020|null| null|    null|      null|\n",
      "|     01/22/2020|null| null|    null|      null|\n",
      "|     01/22/2020|null| null|    null|      null|\n",
      "|     01/22/2020|null| null|    null|      null|\n",
      "|     01/22/2020|null| null|    null|      null|\n",
      "|     01/22/2020|null| null|    null|      null|\n",
      "|     01/22/2020|null| null|    null|      null|\n",
      "|     01/22/2020|null| null|    null|      null|\n",
      "|     01/22/2020|null| null|    null|      null|\n",
      "|     01/22/2020|null| null|    null|      null|\n",
      "|     01/22/2020|null| null|    null|      null|\n",
      "|     01/22/2020|null| null|    null|      null|\n",
      "|     01/23/2020|null| null|    null|      null|\n",
      "|     01/23/2020|null| null|    null|      null|\n",
      "|     01/23/2020|null| null|    null|      null|\n",
      "|     01/23/2020|null| null|    null|      null|\n",
      "|     01/23/2020|null| null|    null|      null|\n",
      "|     01/23/2020|null| null|    null|      null|\n",
      "|     01/23/2020|null| null|    null|      null|\n",
      "|     01/23/2020|null| null|    null|      null|\n",
      "|     01/23/2020|null| null|    null|      null|\n",
      "|     01/23/2020|null| null|    null|      null|\n",
      "|     01/23/2020|null| null|    null|      null|\n",
      "|     01/23/2020|null| null|    null|      null|\n",
      "|     01/23/2020|null| null|    null|      null|\n",
      "|     01/23/2020|null| null|    null|      null|\n",
      "|     01/23/2020|null| null|    null|      null|\n",
      "|     01/23/2020|null| null|    null|      null|\n",
      "|     01/23/2020|null| null|    null|      null|\n",
      "|     01/23/2020|null| null|    null|      null|\n",
      "|     01/23/2020|null| null|    null|      null|\n",
      "|     01/23/2020|null| null|    null|      null|\n",
      "|     01/23/2020|null| null|    null|      null|\n",
      "+---------------+----+-----+--------+----------+\n",
      "only showing top 60 rows\n",
      "\n"
     ]
    }
   ],
   "source": [
    "#Separa a tabela ObservationDate conforme o ano,data,dia e semana do ano\n",
    "dfcovid.select(col(\"ObservationDate\"), \n",
    "     year(col(\"ObservationDate\")).alias(\"year\"), \n",
    "     month(col(\"ObservationDate\")).alias(\"month\"), \n",
    "     next_day(col(\"ObservationDate\"),\"Sunday\").alias(\"next_day\"), #semana inicia em domingos\n",
    "     weekofyear(col(\"ObservationDate\")).alias(\"weekofyear\") \n",
    "  ).show(60)"
   ]
  },
  {
   "cell_type": "code",
   "execution_count": 78,
   "id": "22542610",
   "metadata": {},
   "outputs": [
    {
     "name": "stdout",
     "output_type": "stream",
     "text": [
      "+---+---------------+--------------+--------------+---------------+---------+------+---------+\n",
      "|SNo|ObservationDate|Province/State|Country/Region|    Last Update|Confirmed|Deaths|Recovered|\n",
      "+---+---------------+--------------+--------------+---------------+---------+------+---------+\n",
      "|  1|     2020-01-22|         Anhui|Mainland China|1/22/2020 17:00|      1.0|   0.0|      0.0|\n",
      "|  2|     2020-01-22|       Beijing|Mainland China|1/22/2020 17:00|     14.0|   0.0|      0.0|\n",
      "|  3|     2020-01-22|     Chongqing|Mainland China|1/22/2020 17:00|      6.0|   0.0|      0.0|\n",
      "|  4|     2020-01-22|        Fujian|Mainland China|1/22/2020 17:00|      1.0|   0.0|      0.0|\n",
      "|  5|     2020-01-22|         Gansu|Mainland China|1/22/2020 17:00|      0.0|   0.0|      0.0|\n",
      "|  6|     2020-01-22|     Guangdong|Mainland China|1/22/2020 17:00|     26.0|   0.0|      0.0|\n",
      "|  7|     2020-01-22|       Guangxi|Mainland China|1/22/2020 17:00|      2.0|   0.0|      0.0|\n",
      "|  8|     2020-01-22|       Guizhou|Mainland China|1/22/2020 17:00|      1.0|   0.0|      0.0|\n",
      "|  9|     2020-01-22|        Hainan|Mainland China|1/22/2020 17:00|      4.0|   0.0|      0.0|\n",
      "| 10|     2020-01-22|         Hebei|Mainland China|1/22/2020 17:00|      1.0|   0.0|      0.0|\n",
      "+---+---------------+--------------+--------------+---------------+---------+------+---------+\n",
      "only showing top 10 rows\n",
      "\n"
     ]
    }
   ],
   "source": [
    "#mudando o formato da data\n",
    "dfcovid = dfcovid.withColumn('ObservationDate',to_date(unix_timestamp(col(\"ObservationDate\"), 'MM/dd/yyyy').cast('timestamp')))\n",
    "dfcovid.show(10)"
   ]
  },
  {
   "cell_type": "code",
   "execution_count": 89,
   "id": "377021b3",
   "metadata": {},
   "outputs": [
    {
     "name": "stdout",
     "output_type": "stream",
     "text": [
      "+----+\n",
      "|DATA|\n",
      "+----+\n",
      "|2020|\n",
      "|2020|\n",
      "|2020|\n",
      "|2020|\n",
      "|2020|\n",
      "|2020|\n",
      "|2020|\n",
      "|2020|\n",
      "|2020|\n",
      "|2020|\n",
      "+----+\n",
      "only showing top 10 rows\n",
      "\n"
     ]
    }
   ],
   "source": [
    "#mostrando apenas o ano da função YEAR\n",
    "dfYear = dfcovid.select ( year( dfcovid[\"ObservationDate\"] ).alias(\"DATA\") ).show(10)"
   ]
  },
  {
   "cell_type": "code",
   "execution_count": 70,
   "id": "36c3cd66",
   "metadata": {},
   "outputs": [
    {
     "name": "stdout",
     "output_type": "stream",
     "text": [
      "+-------+----------------+--------------+--------------------+------------------+------------------+-----------------+\n",
      "|summary|             SNo|Province/State|      Country/Region|         Confirmed|            Deaths|        Recovered|\n",
      "+-------+----------------+--------------+--------------------+------------------+------------------+-----------------+\n",
      "|  count|          285307|        285307|              285307|            285307|            285307|           285307|\n",
      "|   mean|        142654.0|          null|                null| 76629.22584093625|1867.3346605586264|44784.23061824631|\n",
      "| stddev|82361.1809632831|          null|                null|246617.58933892965|  5905.56555067096|178802.9969423912|\n",
      "|    min|               1|  Montreal, QC|          Azerbaijan|         -302844.0|            -178.0|        -854405.0|\n",
      "|    max|          285307|  Zuid-Holland|occupied Palestin...|         5605532.0|          112182.0|        6399531.0|\n",
      "+-------+----------------+--------------+--------------------+------------------+------------------+-----------------+\n",
      "\n"
     ]
    }
   ],
   "source": [
    "dfcovid.select( 'SNo',\"Province/State\", \"Country/Region\", \"Confirmed\", 'Deaths', 'Recovered').describe().show()\n"
   ]
  },
  {
   "cell_type": "code",
   "execution_count": 74,
   "id": "45283138",
   "metadata": {},
   "outputs": [
    {
     "name": "stdout",
     "output_type": "stream",
     "text": [
      "+------+---------------+--------------+--------------+-------------------+---------+------+---------+\n",
      "|   SNo|ObservationDate|Province/State|Country/Region|        Last Update|Confirmed|Deaths|Recovered|\n",
      "+------+---------------+--------------+--------------+-------------------+---------+------+---------+\n",
      "|147239|     2020-11-02|       Unknown|      Colombia|2021-04-02 15:13:53|-302844.0|   0.0|      0.0|\n",
      "+------+---------------+--------------+--------------+-------------------+---------+------+---------+\n",
      "\n"
     ]
    }
   ],
   "source": [
    "dfcovidConfZero = dfcovid.filter((dfcovid['Confirmed'] < 0 ) ).show()"
   ]
  },
  {
   "cell_type": "code",
   "execution_count": 75,
   "id": "40881f1e",
   "metadata": {},
   "outputs": [
    {
     "name": "stdout",
     "output_type": "stream",
     "text": [
      "+------+---------------+--------------+--------------+-------------------+---------+------+---------+\n",
      "|   SNo|ObservationDate|Province/State|Country/Region|        Last Update|Confirmed|Deaths|Recovered|\n",
      "+------+---------------+--------------+--------------+-------------------+---------+------+---------+\n",
      "|118117|     2020-09-24|       Unknown|      Colombia|2021-04-02 15:13:53|      0.0|-178.0| -12684.0|\n",
      "|141257|     2020-10-25|       Unknown|      Colombia|2021-04-02 15:13:53|      0.0|-154.0|  -8072.0|\n",
      "+------+---------------+--------------+--------------+-------------------+---------+------+---------+\n",
      "\n"
     ]
    }
   ],
   "source": [
    "dfcovidDeathsZero= dfcovid.filter((dfcovid['Deaths'] < 0 ) ).show()"
   ]
  },
  {
   "cell_type": "code",
   "execution_count": 77,
   "id": "9af103b0",
   "metadata": {},
   "outputs": [
    {
     "name": "stdout",
     "output_type": "stream",
     "text": [
      "+------+---------------+--------------+--------------+-------------------+---------+------+---------+\n",
      "|   SNo|ObservationDate|Province/State|Country/Region|        Last Update|Confirmed|Deaths|Recovered|\n",
      "+------+---------------+--------------+--------------+-------------------+---------+------+---------+\n",
      "|118117|     2020-09-24|       Unknown|      Colombia|2021-04-02 15:13:53|      0.0|-178.0| -12684.0|\n",
      "|141257|     2020-10-25|       Unknown|      Colombia|2021-04-02 15:13:53|      0.0|-154.0|  -8072.0|\n",
      "|144995|     2020-10-30|       Unknown|      Colombia|2021-04-02 15:13:53|      0.0| 505.0|-854405.0|\n",
      "+------+---------------+--------------+--------------+-------------------+---------+------+---------+\n",
      "\n"
     ]
    }
   ],
   "source": [
    "dfcovidReczero = dfcovid.filter((dfcovid['Recovered'] < 0 ) ).show()"
   ]
  },
  {
   "cell_type": "code",
   "execution_count": 80,
   "id": "a0fe3e98",
   "metadata": {},
   "outputs": [],
   "source": [
    "#agregação do novo campo\n",
    "dfGroupByMax = dfcovid.groupBy(\"Country/Region\").max()"
   ]
  },
  {
   "cell_type": "code",
   "execution_count": 82,
   "id": "f589488b",
   "metadata": {},
   "outputs": [
    {
     "name": "stdout",
     "output_type": "stream",
     "text": [
      "+--------------+--------+--------------+-----------+--------------+\n",
      "|Country/Region|max(SNo)|max(Confirmed)|max(Deaths)|max(Recovered)|\n",
      "+--------------+--------+--------------+-----------+--------------+\n",
      "|            UK|  285281|     3861901.0|   112182.0|        4186.0|\n",
      "|        France|  285282|     5605532.0|   104093.0|      307500.0|\n",
      "|        Brazil|  285221|     2923367.0|    97058.0|     2588973.0|\n",
      "|          Iran|  284615|     2534855.0|    72484.0|     1988165.0|\n",
      "|         India|  285285|     4665754.0|    69615.0|     3930302.0|\n",
      "|        Poland|  284666|     2803233.0|    68068.0|     2520968.0|\n",
      "|     Argentina|  284550|     3005259.0|    64252.0|     2676197.0|\n",
      "|            US|  285290|     3744830.0|    62078.0|     6399531.0|\n",
      "|  South Africa|  284687|     1584064.0|    54417.0|     1507778.0|\n",
      "|     Indonesia|  284614|     1677274.0|    45796.0|     1530718.0|\n",
      "|        Turkey|  284703|     4875388.0|    40844.0|     4480381.0|\n",
      "|        Mexico|  285301|      641997.0|    34008.0|     1869529.0|\n",
      "|         Italy|  285267|      808046.0|    32945.0|      722815.0|\n",
      "|Czech Republic|  284582|     1634114.0|    29343.0|     1555215.0|\n",
      "|       Romania|  284669|     1057655.0|    28282.0|      995506.0|\n",
      "|       Hungary|  284612|      782892.0|    27802.0|      523510.0|\n",
      "|          Peru|  285250|      833226.0|    27188.0|     1748170.0|\n",
      "|         Spain|  285251|      682556.0|    27104.0|      150376.0|\n",
      "|       Belgium|  285286|      515391.0|    24291.0|       31130.0|\n",
      "|       Ecuador|  284588|      387299.0|    18740.0|      329582.0|\n",
      "+--------------+--------+--------------+-----------+--------------+\n",
      "only showing top 20 rows\n",
      "\n"
     ]
    }
   ],
   "source": [
    "dfGroupByMax.sort( col(\"max(Deaths)\").desc() ).show(20)"
   ]
  },
  {
   "cell_type": "code",
   "execution_count": 84,
   "id": "8ccbfb37",
   "metadata": {},
   "outputs": [],
   "source": [
    "#agregação do novo campo\n",
    "dfGroupByMaxState = dfcovid.groupBy(\"Province/State\").max()"
   ]
  },
  {
   "cell_type": "code",
   "execution_count": 86,
   "id": "61f6066b",
   "metadata": {},
   "outputs": [
    {
     "name": "stdout",
     "output_type": "stream",
     "text": [
      "+-----------------+--------+--------------+-----------+--------------+\n",
      "|   Province/State|max(SNo)|max(Confirmed)|max(Deaths)|max(Recovered)|\n",
      "+-----------------+--------+--------------+-----------+--------------+\n",
      "|          England|  284851|     3861901.0|   112182.0|           0.0|\n",
      "|              N/A|  284714|     5605532.0|   104093.0|     4480381.0|\n",
      "|        Sao Paulo|  285171|     2923367.0|    97058.0|     2588973.0|\n",
      "|      Maharashtra|  285006|     4665754.0|    69615.0|     3930302.0|\n",
      "|       California|  284792|     3744830.0|    62078.0|           6.0|\n",
      "|         New York|  285064|     2054848.0|    52358.0|           0.0|\n",
      "|            Texas|  285216|     2897110.0|    50290.0|           0.0|\n",
      "|   Rio de Janeiro|  285147|      747449.0|    44835.0|      694160.0|\n",
      "|          Florida|  284858|     2242778.0|    35268.0|           0.0|\n",
      "|     Minas Gerais|  285029|     1370202.0|    34289.0|     1256330.0|\n",
      "|           Mexico|  285025|      244629.0|    34008.0|       86405.0|\n",
      "|        Lombardia|  284991|      808046.0|    32945.0|      722815.0|\n",
      "| Ciudad de Mexico|  284824|      641997.0|    32607.0|      142328.0|\n",
      "|             Lima|  284987|      833226.0|    27188.0|           0.0|\n",
      "|     Pennsylvania|  285113|     1157285.0|    26237.0|           0.0|\n",
      "|       New Jersey|  285061|     1000010.0|    25600.0|           1.0|\n",
      "|Rio Grande do Sul|  285146|      980412.0|    25108.0|      941539.0|\n",
      "|         Illinois|  284917|     1339621.0|    24358.0|           2.0|\n",
      "|          Unknown|  285252|      116237.0|    24291.0|     1869529.0|\n",
      "|           Parana|  285111|      953884.0|    22611.0|      675526.0|\n",
      "|          Georgia|  284871|     1102789.0|    20212.0|           0.0|\n",
      "|             Ohio|  285092|     1075004.0|    19284.0|           0.0|\n",
      "|         Michigan|  285026|      940175.0|    18893.0|           5.0|\n",
      "|            Bahia|  284763|      907121.0|    18641.0|      872677.0|\n",
      "|           Moscow|  285042|     1098718.0|    18428.0|      994965.0|\n",
      "|            Ceara|  284806|      677403.0|    17767.0|      459424.0|\n",
      "|    Massachusetts|  285015|      691172.0|    17621.0|           1.0|\n",
      "|          Arizona|  284748|      863927.0|    17344.0|           1.0|\n",
      "|            Delhi|  284839|     1174552.0|    16559.0|     1061246.0|\n",
      "|        Karnataka|  284951|     1564132.0|    15794.0|     1143250.0|\n",
      "+-----------------+--------+--------------+-----------+--------------+\n",
      "only showing top 30 rows\n",
      "\n"
     ]
    }
   ],
   "source": [
    "dfGroupByMaxState.sort( col(\"max(Deaths)\").desc() ).show(30)"
   ]
  },
  {
   "cell_type": "code",
   "execution_count": 92,
   "id": "4810f2ad",
   "metadata": {},
   "outputs": [],
   "source": [
    "#agregação do novo campo\n",
    "dfGroupByYear = dfcovid.groupBy(\"ObservationDate\").max()"
   ]
  },
  {
   "cell_type": "code",
   "execution_count": 94,
   "id": "5ce5a3fd",
   "metadata": {},
   "outputs": [
    {
     "name": "stdout",
     "output_type": "stream",
     "text": [
      "+---------------+--------+--------------+-----------+--------------+\n",
      "|ObservationDate|max(SNo)|max(Confirmed)|max(Deaths)|max(Recovered)|\n",
      "+---------------+--------+--------------+-----------+--------------+\n",
      "|     2020-08-24|   95078|      756480.0|    36789.0|     2020774.0|\n",
      "|     2021-01-27|  212727|     3251292.0|    89610.0|     2331314.0|\n",
      "|     2020-07-24|   71969|      463218.0|    41082.0|     1261624.0|\n",
      "|     2020-08-05|   80918|      585265.0|    41749.0|     1577851.0|\n",
      "|     2020-11-29|  167737|     2219502.0|    51977.0|     5065030.0|\n",
      "|     2020-04-30|   20439|      304372.0|    27967.0|      153947.0|\n",
      "|     2020-08-28|   98058|      796209.0|    36837.0|     2118367.0|\n",
      "|     2020-08-29|   98803|      801422.0|    36849.0|     2140614.0|\n",
      "|     2020-10-04|  125637|     1443409.0|    38084.0|     2911699.0|\n",
      "|     2021-04-29|  283015|     5547670.0|   112149.0|     4255714.0|\n",
      "|     2020-03-07|    4038|       67666.0|     2959.0|       43500.0|\n",
      "|     2020-03-13|    5435|       67786.0|     3062.0|       51553.0|\n",
      "|     2020-09-24|  118177|     1282963.0|    37209.0|     2710183.0|\n",
      "|     2020-12-18|  182215|     2441737.0|    59869.0|     1778722.0|\n",
      "|     2020-02-04|     779|       16678.0|      479.0|         522.0|\n",
      "|     2020-02-15|    1590|       56249.0|     1596.0|        5623.0|\n",
      "|     2021-04-24|  279195|     5432085.0|   112081.0|     4022408.0|\n",
      "|     2020-05-23|   28779|      359926.0|    36675.0|      361239.0|\n",
      "|     2021-02-15|  227243|     3546803.0|   103544.0|     2482435.0|\n",
      "|     2020-02-12|    1363|       33366.0|     1068.0|        2686.0|\n",
      "+---------------+--------+--------------+-----------+--------------+\n",
      "only showing top 20 rows\n",
      "\n"
     ]
    }
   ],
   "source": [
    "dfGroupByYear.show(20)"
   ]
  },
  {
   "cell_type": "code",
   "execution_count": 95,
   "id": "f6d15621",
   "metadata": {},
   "outputs": [],
   "source": [
    "# agregação do novo campo\n",
    "dfGroupByCount = dfcovid.groupBy(\"Country/Region\").count()"
   ]
  },
  {
   "cell_type": "code",
   "execution_count": 96,
   "id": "a37e5a91",
   "metadata": {},
   "outputs": [
    {
     "name": "stdout",
     "output_type": "stream",
     "text": [
      "+--------------+-----+\n",
      "|Country/Region|count|\n",
      "+--------------+-----+\n",
      "|          Chad|  410|\n",
      "|        Russia|28010|\n",
      "|      Paraguay|  421|\n",
      "| North Ireland|    1|\n",
      "|         Yemen|  388|\n",
      "|       Senegal|  427|\n",
      "|        Sweden| 7098|\n",
      "|    Cabo Verde|  409|\n",
      "|        Guyana|  417|\n",
      "|   Philippines|  460|\n",
      "|        Jersey|    8|\n",
      "|       Eritrea|  408|\n",
      "|         Burma|  402|\n",
      "|      Djibouti|  411|\n",
      "|     Singapore|  466|\n",
      "|      Malaysia|  465|\n",
      "|          Fiji|  410|\n",
      "|        Turkey|  418|\n",
      "|        Malawi|  396|\n",
      "|          Iraq|  435|\n",
      "+--------------+-----+\n",
      "only showing top 20 rows\n",
      "\n"
     ]
    }
   ],
   "source": [
    "dfGroupByCount.show(20)"
   ]
  },
  {
   "cell_type": "code",
   "execution_count": 98,
   "id": "85b1bcfd",
   "metadata": {},
   "outputs": [
    {
     "name": "stdout",
     "output_type": "stream",
     "text": [
      "+---+---------------+--------------+--------------+---------------+---------+------+---------+-----+\n",
      "|SNo|ObservationDate|Province/State|Country/Region|    Last Update|Confirmed|Deaths|Recovered|Month|\n",
      "+---+---------------+--------------+--------------+---------------+---------+------+---------+-----+\n",
      "|  1|     2020-01-22|         Anhui|Mainland China|1/22/2020 17:00|      1.0|   0.0|      0.0|    1|\n",
      "|  2|     2020-01-22|       Beijing|Mainland China|1/22/2020 17:00|     14.0|   0.0|      0.0|    1|\n",
      "|  3|     2020-01-22|     Chongqing|Mainland China|1/22/2020 17:00|      6.0|   0.0|      0.0|    1|\n",
      "|  4|     2020-01-22|        Fujian|Mainland China|1/22/2020 17:00|      1.0|   0.0|      0.0|    1|\n",
      "|  5|     2020-01-22|         Gansu|Mainland China|1/22/2020 17:00|      0.0|   0.0|      0.0|    1|\n",
      "|  6|     2020-01-22|     Guangdong|Mainland China|1/22/2020 17:00|     26.0|   0.0|      0.0|    1|\n",
      "|  7|     2020-01-22|       Guangxi|Mainland China|1/22/2020 17:00|      2.0|   0.0|      0.0|    1|\n",
      "|  8|     2020-01-22|       Guizhou|Mainland China|1/22/2020 17:00|      1.0|   0.0|      0.0|    1|\n",
      "|  9|     2020-01-22|        Hainan|Mainland China|1/22/2020 17:00|      4.0|   0.0|      0.0|    1|\n",
      "| 10|     2020-01-22|         Hebei|Mainland China|1/22/2020 17:00|      1.0|   0.0|      0.0|    1|\n",
      "| 11|     2020-01-22|  Heilongjiang|Mainland China|1/22/2020 17:00|      0.0|   0.0|      0.0|    1|\n",
      "| 12|     2020-01-22|         Henan|Mainland China|1/22/2020 17:00|      5.0|   0.0|      0.0|    1|\n",
      "| 13|     2020-01-22|     Hong Kong|     Hong Kong|1/22/2020 17:00|      0.0|   0.0|      0.0|    1|\n",
      "| 14|     2020-01-22|         Hubei|Mainland China|1/22/2020 17:00|    444.0|  17.0|     28.0|    1|\n",
      "| 15|     2020-01-22|         Hunan|Mainland China|1/22/2020 17:00|      4.0|   0.0|      0.0|    1|\n",
      "| 16|     2020-01-22|Inner Mongolia|Mainland China|1/22/2020 17:00|      0.0|   0.0|      0.0|    1|\n",
      "| 17|     2020-01-22|       Jiangsu|Mainland China|1/22/2020 17:00|      1.0|   0.0|      0.0|    1|\n",
      "| 18|     2020-01-22|       Jiangxi|Mainland China|1/22/2020 17:00|      2.0|   0.0|      0.0|    1|\n",
      "| 19|     2020-01-22|         Jilin|Mainland China|1/22/2020 17:00|      0.0|   0.0|      0.0|    1|\n",
      "| 20|     2020-01-22|      Liaoning|Mainland China|1/22/2020 17:00|      2.0|   0.0|      0.0|    1|\n",
      "| 21|     2020-01-22|         Macau|         Macau|1/22/2020 17:00|      1.0|   0.0|      0.0|    1|\n",
      "| 22|     2020-01-22|       Ningxia|Mainland China|1/22/2020 17:00|      1.0|   0.0|      0.0|    1|\n",
      "| 23|     2020-01-22|       Qinghai|Mainland China|1/22/2020 17:00|      0.0|   0.0|      0.0|    1|\n",
      "| 24|     2020-01-22|       Shaanxi|Mainland China|1/22/2020 17:00|      0.0|   0.0|      0.0|    1|\n",
      "| 25|     2020-01-22|      Shandong|Mainland China|1/22/2020 17:00|      2.0|   0.0|      0.0|    1|\n",
      "| 26|     2020-01-22|      Shanghai|Mainland China|1/22/2020 17:00|      9.0|   0.0|      0.0|    1|\n",
      "| 27|     2020-01-22|        Shanxi|Mainland China|1/22/2020 17:00|      1.0|   0.0|      0.0|    1|\n",
      "| 28|     2020-01-22|       Sichuan|Mainland China|1/22/2020 17:00|      5.0|   0.0|      0.0|    1|\n",
      "| 29|     2020-01-22|        Taiwan|        Taiwan|1/22/2020 17:00|      1.0|   0.0|      0.0|    1|\n",
      "| 30|     2020-01-22|       Tianjin|Mainland China|1/22/2020 17:00|      4.0|   0.0|      0.0|    1|\n",
      "| 31|     2020-01-22|         Tibet|Mainland China|1/22/2020 17:00|      0.0|   0.0|      0.0|    1|\n",
      "| 32|     2020-01-22|    Washington|            US|1/22/2020 17:00|      1.0|   0.0|      0.0|    1|\n",
      "| 33|     2020-01-22|      Xinjiang|Mainland China|1/22/2020 17:00|      0.0|   0.0|      0.0|    1|\n",
      "| 34|     2020-01-22|        Yunnan|Mainland China|1/22/2020 17:00|      1.0|   0.0|      0.0|    1|\n",
      "| 35|     2020-01-22|      Zhejiang|Mainland China|1/22/2020 17:00|     10.0|   0.0|      0.0|    1|\n",
      "| 36|     2020-01-22|           N/A|         Japan|1/22/2020 17:00|      2.0|   0.0|      0.0|    1|\n",
      "| 37|     2020-01-22|           N/A|      Thailand|1/22/2020 17:00|      4.0|   0.0|      2.0|    1|\n",
      "| 38|     2020-01-22|           N/A|   South Korea|1/22/2020 17:00|      1.0|   0.0|      0.0|    1|\n",
      "| 39|     2020-01-22|       Unknown|         China|1/22/2020 17:00|      0.0|   0.0|      0.0|    1|\n",
      "| 40|     2020-01-23|         Anhui|Mainland China|  1/23/20 17:00|      9.0|   0.0|      0.0|    1|\n",
      "| 41|     2020-01-23|       Beijing|Mainland China|  1/23/20 17:00|     22.0|   0.0|      0.0|    1|\n",
      "| 42|     2020-01-23|     Chongqing|Mainland China|  1/23/20 17:00|      9.0|   0.0|      0.0|    1|\n",
      "| 43|     2020-01-23|        Fujian|Mainland China|  1/23/20 17:00|      5.0|   0.0|      0.0|    1|\n",
      "| 44|     2020-01-23|         Gansu|Mainland China|  1/23/20 17:00|      2.0|   0.0|      0.0|    1|\n",
      "| 45|     2020-01-23|     Guangdong|Mainland China|  1/23/20 17:00|     32.0|   0.0|      2.0|    1|\n",
      "| 46|     2020-01-23|       Guangxi|Mainland China|  1/23/20 17:00|      5.0|   0.0|      0.0|    1|\n",
      "| 47|     2020-01-23|       Guizhou|Mainland China|  1/23/20 17:00|      3.0|   0.0|      0.0|    1|\n",
      "| 48|     2020-01-23|        Hainan|Mainland China|  1/23/20 17:00|      5.0|   0.0|      0.0|    1|\n",
      "| 49|     2020-01-23|         Hubei|Mainland China|  1/23/20 17:00|    444.0|  17.0|     28.0|    1|\n",
      "| 50|     2020-01-23|  Heilongjiang|Mainland China|  1/23/20 17:00|      2.0|   0.0|      0.0|    1|\n",
      "| 51|     2020-01-23|         Henan|Mainland China|  1/23/20 17:00|      5.0|   0.0|      0.0|    1|\n",
      "| 52|     2020-01-23|     Hong Kong|     Hong Kong|  1/23/20 17:00|      2.0|   0.0|      0.0|    1|\n",
      "| 53|     2020-01-23|         Hubei|Mainland China|  1/23/20 17:00|    444.0|  17.0|     28.0|    1|\n",
      "| 54|     2020-01-23|         Hunan|Mainland China|  1/23/20 17:00|      9.0|   0.0|      0.0|    1|\n",
      "| 55|     2020-01-23|Inner Mongolia|Mainland China|  1/23/20 17:00|      0.0|   0.0|      0.0|    1|\n",
      "| 56|     2020-01-23|       Jiangsu|Mainland China|  1/23/20 17:00|      5.0|   0.0|      0.0|    1|\n",
      "| 57|     2020-01-23|       Jiangxi|Mainland China|  1/23/20 17:00|      7.0|   0.0|      0.0|    1|\n",
      "| 58|     2020-01-23|         Jilin|Mainland China|  1/23/20 17:00|      1.0|   0.0|      0.0|    1|\n",
      "| 59|     2020-01-23|      Liaoning|Mainland China|  1/23/20 17:00|      3.0|   0.0|      0.0|    1|\n",
      "| 60|     2020-01-23|         Macau|         Macau|  1/23/20 17:00|      2.0|   0.0|      0.0|    1|\n",
      "| 61|     2020-01-23|       Ningxia|Mainland China|  1/23/20 17:00|      1.0|   0.0|      0.0|    1|\n",
      "| 62|     2020-01-23|       Qinghai|Mainland China|  1/23/20 17:00|      0.0|   0.0|      0.0|    1|\n",
      "| 63|     2020-01-23|       Shaanxi|Mainland China|  1/23/20 17:00|      3.0|   0.0|      0.0|    1|\n",
      "| 64|     2020-01-23|      Shandong|Mainland China|  1/23/20 17:00|      6.0|   0.0|      0.0|    1|\n",
      "| 65|     2020-01-23|      Shanghai|Mainland China|  1/23/20 17:00|     16.0|   0.0|      0.0|    1|\n",
      "| 66|     2020-01-23|        Shanxi|Mainland China|  1/23/20 17:00|      1.0|   0.0|      0.0|    1|\n",
      "| 67|     2020-01-23|       Sichuan|Mainland China|  1/23/20 17:00|      8.0|   0.0|      0.0|    1|\n",
      "| 68|     2020-01-23|        Taiwan|        Taiwan|  1/23/20 17:00|      1.0|   0.0|      0.0|    1|\n",
      "| 69|     2020-01-23|       Tianjin|Mainland China|  1/23/20 17:00|      4.0|   0.0|      0.0|    1|\n",
      "| 70|     2020-01-23|         Tibet|Mainland China|  1/23/20 17:00|      0.0|   0.0|      0.0|    1|\n",
      "| 71|     2020-01-23|    Washington|            US|  1/23/20 17:00|      1.0|   0.0|      0.0|    1|\n",
      "| 72|     2020-01-23|      Xinjiang|Mainland China|  1/23/20 17:00|      2.0|   0.0|      0.0|    1|\n",
      "| 73|     2020-01-23|        Yunnan|Mainland China|  1/23/20 17:00|      2.0|   0.0|      0.0|    1|\n",
      "| 74|     2020-01-23|      Zhejiang|Mainland China|  1/23/20 17:00|     27.0|   0.0|      0.0|    1|\n",
      "| 75|     2020-01-23|           N/A|         Japan|  1/23/20 17:00|      1.0|   0.0|      0.0|    1|\n",
      "| 76|     2020-01-23|           N/A|      Thailand|  1/23/20 17:00|      4.0|   0.0|      2.0|    1|\n",
      "| 77|     2020-01-23|           N/A|   South Korea|  1/23/20 17:00|      1.0|   0.0|      0.0|    1|\n",
      "| 78|     2020-01-23|           N/A|     Singapore|  1/23/20 17:00|      1.0|   0.0|      0.0|    1|\n",
      "| 79|     2020-01-23|           N/A|   Philippines|  1/23/20 17:00|      0.0|   0.0|      0.0|    1|\n",
      "| 80|     2020-01-23|           N/A|      Malaysia|  1/23/20 17:00|      0.0|   0.0|      0.0|    1|\n",
      "| 81|     2020-01-23|           N/A|       Vietnam|  1/23/20 17:00|      2.0|   0.0|      0.0|    1|\n",
      "| 82|     2020-01-23|           N/A|     Australia|  1/23/20 17:00|      0.0|   0.0|      0.0|    1|\n",
      "| 83|     2020-01-23|           N/A|        Mexico|  1/23/20 17:00|      0.0|   0.0|      0.0|    1|\n",
      "| 84|     2020-01-23|           N/A|        Brazil|  1/23/20 17:00|      0.0|   0.0|      0.0|    1|\n",
      "| 85|     2020-01-23|           N/A|      Colombia|  1/23/20 17:00|      0.0|   0.0|      0.0|    1|\n",
      "| 86|     2020-01-23|       Unknown|         China|  1/23/20 17:00|      0.0|   0.0|      0.0|    1|\n",
      "| 87|     2020-01-24|         Hubei|Mainland China|  1/24/20 17:00|    549.0|  24.0|     31.0|    1|\n",
      "| 88|     2020-01-24|     Guangdong|Mainland China|  1/24/20 17:00|     53.0|   0.0|      2.0|    1|\n",
      "| 89|     2020-01-24|      Zhejiang|Mainland China|  1/24/20 17:00|     43.0|   0.0|      1.0|    1|\n",
      "| 90|     2020-01-24|       Beijing|Mainland China|  1/24/20 17:00|     36.0|   0.0|      1.0|    1|\n",
      "| 91|     2020-01-24|     Chongqing|Mainland China|  1/24/20 17:00|     27.0|   0.0|      0.0|    1|\n",
      "| 92|     2020-01-24|         Hunan|Mainland China|  1/24/20 17:00|     24.0|   0.0|      0.0|    1|\n",
      "| 93|     2020-01-24|       Guangxi|Mainland China|  1/24/20 17:00|     23.0|   0.0|      0.0|    1|\n",
      "| 94|     2020-01-24|      Shanghai|Mainland China|  1/24/20 17:00|     20.0|   0.0|      1.0|    1|\n",
      "| 95|     2020-01-24|       Jiangxi|Mainland China|  1/24/20 17:00|     18.0|   0.0|      0.0|    1|\n",
      "| 96|     2020-01-24|       Sichuan|Mainland China|  1/24/20 17:00|     15.0|   0.0|      0.0|    1|\n",
      "| 97|     2020-01-24|      Shandong|Mainland China|  1/24/20 17:00|     15.0|   0.0|      0.0|    1|\n",
      "| 98|     2020-01-24|         Anhui|Mainland China|  1/24/20 17:00|     15.0|   0.0|      0.0|    1|\n",
      "| 99|     2020-01-24|        Fujian|Mainland China|  1/24/20 17:00|     10.0|   0.0|      0.0|    1|\n",
      "|100|     2020-01-24|         Henan|Mainland China|  1/24/20 17:00|      9.0|   0.0|      0.0|    1|\n",
      "+---+---------------+--------------+--------------+---------------+---------+------+---------+-----+\n",
      "only showing top 100 rows\n",
      "\n"
     ]
    }
   ],
   "source": [
    "#mostrando apenas o ano da função MONTH\n",
    "dfcovid = dfcovid.withColumn (\"Month\", month( dfcovid[\"ObservationDate\"] ) ).show(100)"
   ]
  },
  {
   "cell_type": "code",
   "execution_count": null,
   "id": "d8540ca5",
   "metadata": {},
   "outputs": [],
   "source": []
  },
  {
   "cell_type": "code",
   "execution_count": null,
   "id": "614ac40e",
   "metadata": {},
   "outputs": [],
   "source": []
  },
  {
   "cell_type": "code",
   "execution_count": null,
   "id": "5ddb0cd7",
   "metadata": {},
   "outputs": [],
   "source": []
  }
 ],
 "metadata": {
  "kernelspec": {
   "display_name": "Python 3",
   "language": "python",
   "name": "python3"
  },
  "language_info": {
   "codemirror_mode": {
    "name": "ipython",
    "version": 3
   },
   "file_extension": ".py",
   "mimetype": "text/x-python",
   "name": "python",
   "nbconvert_exporter": "python",
   "pygments_lexer": "ipython3",
   "version": "3.9.4"
  }
 },
 "nbformat": 4,
 "nbformat_minor": 5
}
