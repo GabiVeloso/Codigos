{
 "cells": [
  {
   "cell_type": "code",
   "execution_count": null,
   "id": "a89de6dd",
   "metadata": {},
   "outputs": [],
   "source": [
    "'Ainda sem os comentários necessários -> acrescentar depois + read.me!!'\n",
    "\n",
    "'Primeira Analise Covid -> analisar o arquivo csv do COVID, \n",
    "'criando agrupamentos por ano, mes, dia, estado, país e fazer uma análise'\n",
    "\n",
    "'31/05'\n",
    "'Versão incompleta!'"
   ]
  },
  {
   "cell_type": "code",
   "execution_count": 244,
   "id": "8af90aa7",
   "metadata": {},
   "outputs": [],
   "source": [
    "from pyspark.sql import SparkSession"
   ]
  },
  {
   "cell_type": "code",
   "execution_count": 15,
   "id": "b7b93b1d",
   "metadata": {},
   "outputs": [],
   "source": [
    "spark = SparkSession.builder.appName(\"covid\").getOrCreate();"
   ]
  },
  {
   "cell_type": "code",
   "execution_count": 16,
   "id": "94034eda",
   "metadata": {},
   "outputs": [],
   "source": [
    "df = spark.read.csv('covid_19_data.csv', inferSchema=True, header=True)"
   ]
  },
  {
   "cell_type": "code",
   "execution_count": 17,
   "id": "6815df79",
   "metadata": {},
   "outputs": [
    {
     "data": {
      "text/plain": [
       "pyspark.sql.dataframe.DataFrame"
      ]
     },
     "execution_count": 17,
     "metadata": {},
     "output_type": "execute_result"
    }
   ],
   "source": [
    "type(df)"
   ]
  },
  {
   "cell_type": "code",
   "execution_count": 18,
   "id": "f6bbd1fe",
   "metadata": {},
   "outputs": [
    {
     "name": "stdout",
     "output_type": "stream",
     "text": [
      "root\n",
      " |-- SNo: integer (nullable = true)\n",
      " |-- ObservationDate: string (nullable = true)\n",
      " |-- Province/State: string (nullable = true)\n",
      " |-- Country/Region: string (nullable = true)\n",
      " |-- Last Update: string (nullable = true)\n",
      " |-- Confirmed: double (nullable = true)\n",
      " |-- Deaths: double (nullable = true)\n",
      " |-- Recovered: double (nullable = true)\n",
      "\n"
     ]
    }
   ],
   "source": [
    "df.printSchema()"
   ]
  },
  {
   "cell_type": "code",
   "execution_count": 12,
   "id": "7a6e652c",
   "metadata": {},
   "outputs": [
    {
     "data": {
      "text/plain": [
       "['SNo',\n",
       " 'ObservationDate',\n",
       " 'Province/State',\n",
       " 'Country/Region',\n",
       " 'Last Update',\n",
       " 'Confirmed',\n",
       " 'Deaths',\n",
       " 'Recovered']"
      ]
     },
     "execution_count": 12,
     "metadata": {},
     "output_type": "execute_result"
    }
   ],
   "source": [
    "df.columns"
   ]
  },
  {
   "cell_type": "code",
   "execution_count": 13,
   "id": "48ad3ea4",
   "metadata": {},
   "outputs": [
    {
     "name": "stdout",
     "output_type": "stream",
     "text": [
      "+---+---------------+--------------+--------------+---------------+---------+------+---------+\n",
      "|SNo|ObservationDate|Province/State|Country/Region|    Last Update|Confirmed|Deaths|Recovered|\n",
      "+---+---------------+--------------+--------------+---------------+---------+------+---------+\n",
      "|  1|     01/22/2020|         Anhui|Mainland China|1/22/2020 17:00|      1.0|   0.0|      0.0|\n",
      "|  2|     01/22/2020|       Beijing|Mainland China|1/22/2020 17:00|     14.0|   0.0|      0.0|\n",
      "|  3|     01/22/2020|     Chongqing|Mainland China|1/22/2020 17:00|      6.0|   0.0|      0.0|\n",
      "|  4|     01/22/2020|        Fujian|Mainland China|1/22/2020 17:00|      1.0|   0.0|      0.0|\n",
      "|  5|     01/22/2020|         Gansu|Mainland China|1/22/2020 17:00|      0.0|   0.0|      0.0|\n",
      "+---+---------------+--------------+--------------+---------------+---------+------+---------+\n",
      "only showing top 5 rows\n",
      "\n"
     ]
    }
   ],
   "source": [
    "df.show(5)"
   ]
  },
  {
   "cell_type": "code",
   "execution_count": 81,
   "id": "e2e825de",
   "metadata": {},
   "outputs": [],
   "source": [
    "from pyspark.sql.functions import when,col"
   ]
  },
  {
   "cell_type": "code",
   "execution_count": 21,
   "id": "de8bafb8",
   "metadata": {},
   "outputs": [],
   "source": [
    "from pyspark.sql import SQLContext"
   ]
  },
  {
   "cell_type": "code",
   "execution_count": 30,
   "id": "b5ae2e07",
   "metadata": {},
   "outputs": [],
   "source": [
    "df.createOrReplaceTempView(\"coronaTable\")"
   ]
  },
  {
   "cell_type": "code",
   "execution_count": 51,
   "id": "ebd66ece",
   "metadata": {},
   "outputs": [],
   "source": [
    "sql = spark.sql(\"select * from coronaTable where `Province/State` is null\")"
   ]
  },
  {
   "cell_type": "code",
   "execution_count": null,
   "id": "3a2ee9a3",
   "metadata": {},
   "outputs": [],
   "source": []
  },
  {
   "cell_type": "code",
   "execution_count": 93,
   "id": "3fcce940",
   "metadata": {},
   "outputs": [],
   "source": [
    "df = df.withColumn( 'Province/State', when ( col ('Province/State').isNull() , 'N/A' ).otherwise(df['Province/State'])   )"
   ]
  },
  {
   "cell_type": "code",
   "execution_count": 110,
   "id": "3fe2b2a5",
   "metadata": {},
   "outputs": [
    {
     "name": "stdout",
     "output_type": "stream",
     "text": [
      "+---+---------------+--------------+--------------+-----------+---------+------+---------+\n",
      "|SNo|ObservationDate|Province/State|Country/Region|Last Update|Confirmed|Deaths|Recovered|\n",
      "+---+---------------+--------------+--------------+-----------+---------+------+---------+\n",
      "+---+---------------+--------------+--------------+-----------+---------+------+---------+\n",
      "\n"
     ]
    }
   ],
   "source": [
    "df.filter ( df['Province/State'].isNull() ).show(3)"
   ]
  },
  {
   "cell_type": "code",
   "execution_count": 78,
   "id": "22d3552e",
   "metadata": {},
   "outputs": [
    {
     "data": {
      "text/plain": [
       "NoneType"
      ]
     },
     "execution_count": 78,
     "metadata": {},
     "output_type": "execute_result"
    }
   ],
   "source": [
    "type(sql)"
   ]
  },
  {
   "cell_type": "code",
   "execution_count": 95,
   "id": "2f74454c",
   "metadata": {},
   "outputs": [
    {
     "name": "stdout",
     "output_type": "stream",
     "text": [
      "+---+---------------+--------------+--------------+-----------+---------+------+---------+\n",
      "|SNo|ObservationDate|Province/State|Country/Region|Last Update|Confirmed|Deaths|Recovered|\n",
      "+---+---------------+--------------+--------------+-----------+---------+------+---------+\n",
      "+---+---------------+--------------+--------------+-----------+---------+------+---------+\n",
      "\n"
     ]
    }
   ],
   "source": [
    "sql = spark.sql(\"select * from coronaTable where `ObservationDate` is null\").show(3)"
   ]
  },
  {
   "cell_type": "code",
   "execution_count": 55,
   "id": "ae79f429",
   "metadata": {},
   "outputs": [
    {
     "name": "stdout",
     "output_type": "stream",
     "text": [
      "+---+---------------+--------------+--------------+-----------+---------+------+---------+\n",
      "|SNo|ObservationDate|Province/State|Country/Region|Last Update|Confirmed|Deaths|Recovered|\n",
      "+---+---------------+--------------+--------------+-----------+---------+------+---------+\n",
      "+---+---------------+--------------+--------------+-----------+---------+------+---------+\n",
      "\n"
     ]
    }
   ],
   "source": [
    "sql = spark.sql(\"select * from coronaTable where `Country/Region` is null\").show(3)"
   ]
  },
  {
   "cell_type": "code",
   "execution_count": 56,
   "id": "9779d7b5",
   "metadata": {},
   "outputs": [
    {
     "name": "stdout",
     "output_type": "stream",
     "text": [
      "+---+---------------+--------------+--------------+-----------+---------+------+---------+\n",
      "|SNo|ObservationDate|Province/State|Country/Region|Last Update|Confirmed|Deaths|Recovered|\n",
      "+---+---------------+--------------+--------------+-----------+---------+------+---------+\n",
      "+---+---------------+--------------+--------------+-----------+---------+------+---------+\n",
      "\n"
     ]
    }
   ],
   "source": [
    "sql = spark.sql(\"select * from coronaTable where `Last Update` is null\").show(3)"
   ]
  },
  {
   "cell_type": "code",
   "execution_count": 57,
   "id": "fa87f7fe",
   "metadata": {},
   "outputs": [
    {
     "name": "stdout",
     "output_type": "stream",
     "text": [
      "+---+---------------+--------------+--------------+-----------+---------+------+---------+\n",
      "|SNo|ObservationDate|Province/State|Country/Region|Last Update|Confirmed|Deaths|Recovered|\n",
      "+---+---------------+--------------+--------------+-----------+---------+------+---------+\n",
      "+---+---------------+--------------+--------------+-----------+---------+------+---------+\n",
      "\n"
     ]
    }
   ],
   "source": [
    "sql = spark.sql(\"select * from coronaTable where `Confirmed` is null\").show(3)"
   ]
  },
  {
   "cell_type": "code",
   "execution_count": 58,
   "id": "29d55443",
   "metadata": {},
   "outputs": [
    {
     "name": "stdout",
     "output_type": "stream",
     "text": [
      "+---+---------------+--------------+--------------+-----------+---------+------+---------+\n",
      "|SNo|ObservationDate|Province/State|Country/Region|Last Update|Confirmed|Deaths|Recovered|\n",
      "+---+---------------+--------------+--------------+-----------+---------+------+---------+\n",
      "+---+---------------+--------------+--------------+-----------+---------+------+---------+\n",
      "\n"
     ]
    }
   ],
   "source": [
    "sql = spark.sql(\"select * from coronaTable where `Deaths` is null\").show(3)"
   ]
  },
  {
   "cell_type": "code",
   "execution_count": 59,
   "id": "b730020e",
   "metadata": {},
   "outputs": [
    {
     "name": "stdout",
     "output_type": "stream",
     "text": [
      "+---+---------------+--------------+--------------+-----------+---------+------+---------+\n",
      "|SNo|ObservationDate|Province/State|Country/Region|Last Update|Confirmed|Deaths|Recovered|\n",
      "+---+---------------+--------------+--------------+-----------+---------+------+---------+\n",
      "+---+---------------+--------------+--------------+-----------+---------+------+---------+\n",
      "\n"
     ]
    }
   ],
   "source": [
    "sql = spark.sql(\"select * from coronaTable where `Recovered` is null\").show(3)"
   ]
  },
  {
   "cell_type": "code",
   "execution_count": 60,
   "id": "6ebd01f1",
   "metadata": {},
   "outputs": [
    {
     "name": "stdout",
     "output_type": "stream",
     "text": [
      "+---+---------------+--------------+--------------+---------------+---------+------+---------+\n",
      "|SNo|ObservationDate|Province/State|Country/Region|    Last Update|Confirmed|Deaths|Recovered|\n",
      "+---+---------------+--------------+--------------+---------------+---------+------+---------+\n",
      "|  1|     01/22/2020|         Anhui|Mainland China|1/22/2020 17:00|      1.0|   0.0|      0.0|\n",
      "|  2|     01/22/2020|       Beijing|Mainland China|1/22/2020 17:00|     14.0|   0.0|      0.0|\n",
      "|  3|     01/22/2020|     Chongqing|Mainland China|1/22/2020 17:00|      6.0|   0.0|      0.0|\n",
      "|  4|     01/22/2020|        Fujian|Mainland China|1/22/2020 17:00|      1.0|   0.0|      0.0|\n",
      "|  5|     01/22/2020|         Gansu|Mainland China|1/22/2020 17:00|      0.0|   0.0|      0.0|\n",
      "|  6|     01/22/2020|     Guangdong|Mainland China|1/22/2020 17:00|     26.0|   0.0|      0.0|\n",
      "|  7|     01/22/2020|       Guangxi|Mainland China|1/22/2020 17:00|      2.0|   0.0|      0.0|\n",
      "|  8|     01/22/2020|       Guizhou|Mainland China|1/22/2020 17:00|      1.0|   0.0|      0.0|\n",
      "|  9|     01/22/2020|        Hainan|Mainland China|1/22/2020 17:00|      4.0|   0.0|      0.0|\n",
      "| 10|     01/22/2020|         Hebei|Mainland China|1/22/2020 17:00|      1.0|   0.0|      0.0|\n",
      "| 11|     01/22/2020|  Heilongjiang|Mainland China|1/22/2020 17:00|      0.0|   0.0|      0.0|\n",
      "| 12|     01/22/2020|         Henan|Mainland China|1/22/2020 17:00|      5.0|   0.0|      0.0|\n",
      "| 13|     01/22/2020|     Hong Kong|     Hong Kong|1/22/2020 17:00|      0.0|   0.0|      0.0|\n",
      "| 14|     01/22/2020|         Hubei|Mainland China|1/22/2020 17:00|    444.0|  17.0|     28.0|\n",
      "| 15|     01/22/2020|         Hunan|Mainland China|1/22/2020 17:00|      4.0|   0.0|      0.0|\n",
      "| 16|     01/22/2020|Inner Mongolia|Mainland China|1/22/2020 17:00|      0.0|   0.0|      0.0|\n",
      "| 17|     01/22/2020|       Jiangsu|Mainland China|1/22/2020 17:00|      1.0|   0.0|      0.0|\n",
      "| 18|     01/22/2020|       Jiangxi|Mainland China|1/22/2020 17:00|      2.0|   0.0|      0.0|\n",
      "| 19|     01/22/2020|         Jilin|Mainland China|1/22/2020 17:00|      0.0|   0.0|      0.0|\n",
      "| 20|     01/22/2020|      Liaoning|Mainland China|1/22/2020 17:00|      2.0|   0.0|      0.0|\n",
      "+---+---------------+--------------+--------------+---------------+---------+------+---------+\n",
      "only showing top 20 rows\n",
      "\n"
     ]
    }
   ],
   "source": [
    "df.na.fill(0,subset=['Deaths']).show()"
   ]
  },
  {
   "cell_type": "code",
   "execution_count": 61,
   "id": "f14d1b12",
   "metadata": {},
   "outputs": [
    {
     "name": "stdout",
     "output_type": "stream",
     "text": [
      "+---+---------------+--------------+--------------+---------------+---------+------+---------+\n",
      "|SNo|ObservationDate|Province/State|Country/Region|    Last Update|Confirmed|Deaths|Recovered|\n",
      "+---+---------------+--------------+--------------+---------------+---------+------+---------+\n",
      "|  1|     01/22/2020|         Anhui|Mainland China|1/22/2020 17:00|      1.0|   0.0|      0.0|\n",
      "|  2|     01/22/2020|       Beijing|Mainland China|1/22/2020 17:00|     14.0|   0.0|      0.0|\n",
      "|  3|     01/22/2020|     Chongqing|Mainland China|1/22/2020 17:00|      6.0|   0.0|      0.0|\n",
      "|  4|     01/22/2020|        Fujian|Mainland China|1/22/2020 17:00|      1.0|   0.0|      0.0|\n",
      "|  5|     01/22/2020|         Gansu|Mainland China|1/22/2020 17:00|      0.0|   0.0|      0.0|\n",
      "|  6|     01/22/2020|     Guangdong|Mainland China|1/22/2020 17:00|     26.0|   0.0|      0.0|\n",
      "|  7|     01/22/2020|       Guangxi|Mainland China|1/22/2020 17:00|      2.0|   0.0|      0.0|\n",
      "|  8|     01/22/2020|       Guizhou|Mainland China|1/22/2020 17:00|      1.0|   0.0|      0.0|\n",
      "|  9|     01/22/2020|        Hainan|Mainland China|1/22/2020 17:00|      4.0|   0.0|      0.0|\n",
      "| 10|     01/22/2020|         Hebei|Mainland China|1/22/2020 17:00|      1.0|   0.0|      0.0|\n",
      "| 11|     01/22/2020|  Heilongjiang|Mainland China|1/22/2020 17:00|      0.0|   0.0|      0.0|\n",
      "| 12|     01/22/2020|         Henan|Mainland China|1/22/2020 17:00|      5.0|   0.0|      0.0|\n",
      "| 13|     01/22/2020|     Hong Kong|     Hong Kong|1/22/2020 17:00|      0.0|   0.0|      0.0|\n",
      "| 14|     01/22/2020|         Hubei|Mainland China|1/22/2020 17:00|    444.0|  17.0|     28.0|\n",
      "| 15|     01/22/2020|         Hunan|Mainland China|1/22/2020 17:00|      4.0|   0.0|      0.0|\n",
      "| 16|     01/22/2020|Inner Mongolia|Mainland China|1/22/2020 17:00|      0.0|   0.0|      0.0|\n",
      "| 17|     01/22/2020|       Jiangsu|Mainland China|1/22/2020 17:00|      1.0|   0.0|      0.0|\n",
      "| 18|     01/22/2020|       Jiangxi|Mainland China|1/22/2020 17:00|      2.0|   0.0|      0.0|\n",
      "| 19|     01/22/2020|         Jilin|Mainland China|1/22/2020 17:00|      0.0|   0.0|      0.0|\n",
      "| 20|     01/22/2020|      Liaoning|Mainland China|1/22/2020 17:00|      2.0|   0.0|      0.0|\n",
      "+---+---------------+--------------+--------------+---------------+---------+------+---------+\n",
      "only showing top 20 rows\n",
      "\n"
     ]
    }
   ],
   "source": [
    "df.na.fill(0,subset=['Recovered']).show()"
   ]
  },
  {
   "cell_type": "code",
   "execution_count": 62,
   "id": "6645f823",
   "metadata": {},
   "outputs": [
    {
     "name": "stdout",
     "output_type": "stream",
     "text": [
      "+---+---------------+--------------+--------------+---------------+---------+------+---------+\n",
      "|SNo|ObservationDate|Province/State|Country/Region|    Last Update|Confirmed|Deaths|Recovered|\n",
      "+---+---------------+--------------+--------------+---------------+---------+------+---------+\n",
      "|  1|     01/22/2020|         Anhui|Mainland China|1/22/2020 17:00|      1.0|   0.0|      0.0|\n",
      "|  2|     01/22/2020|       Beijing|Mainland China|1/22/2020 17:00|     14.0|   0.0|      0.0|\n",
      "|  3|     01/22/2020|     Chongqing|Mainland China|1/22/2020 17:00|      6.0|   0.0|      0.0|\n",
      "|  4|     01/22/2020|        Fujian|Mainland China|1/22/2020 17:00|      1.0|   0.0|      0.0|\n",
      "|  5|     01/22/2020|         Gansu|Mainland China|1/22/2020 17:00|      0.0|   0.0|      0.0|\n",
      "|  6|     01/22/2020|     Guangdong|Mainland China|1/22/2020 17:00|     26.0|   0.0|      0.0|\n",
      "|  7|     01/22/2020|       Guangxi|Mainland China|1/22/2020 17:00|      2.0|   0.0|      0.0|\n",
      "|  8|     01/22/2020|       Guizhou|Mainland China|1/22/2020 17:00|      1.0|   0.0|      0.0|\n",
      "|  9|     01/22/2020|        Hainan|Mainland China|1/22/2020 17:00|      4.0|   0.0|      0.0|\n",
      "| 10|     01/22/2020|         Hebei|Mainland China|1/22/2020 17:00|      1.0|   0.0|      0.0|\n",
      "| 11|     01/22/2020|  Heilongjiang|Mainland China|1/22/2020 17:00|      0.0|   0.0|      0.0|\n",
      "| 12|     01/22/2020|         Henan|Mainland China|1/22/2020 17:00|      5.0|   0.0|      0.0|\n",
      "| 13|     01/22/2020|     Hong Kong|     Hong Kong|1/22/2020 17:00|      0.0|   0.0|      0.0|\n",
      "| 14|     01/22/2020|         Hubei|Mainland China|1/22/2020 17:00|    444.0|  17.0|     28.0|\n",
      "| 15|     01/22/2020|         Hunan|Mainland China|1/22/2020 17:00|      4.0|   0.0|      0.0|\n",
      "| 16|     01/22/2020|Inner Mongolia|Mainland China|1/22/2020 17:00|      0.0|   0.0|      0.0|\n",
      "| 17|     01/22/2020|       Jiangsu|Mainland China|1/22/2020 17:00|      1.0|   0.0|      0.0|\n",
      "| 18|     01/22/2020|       Jiangxi|Mainland China|1/22/2020 17:00|      2.0|   0.0|      0.0|\n",
      "| 19|     01/22/2020|         Jilin|Mainland China|1/22/2020 17:00|      0.0|   0.0|      0.0|\n",
      "| 20|     01/22/2020|      Liaoning|Mainland China|1/22/2020 17:00|      2.0|   0.0|      0.0|\n",
      "+---+---------------+--------------+--------------+---------------+---------+------+---------+\n",
      "only showing top 20 rows\n",
      "\n"
     ]
    }
   ],
   "source": [
    "df.na.fill(0,subset=['Province/State']).show()"
   ]
  },
  {
   "cell_type": "code",
   "execution_count": 64,
   "id": "ca73b1e6",
   "metadata": {},
   "outputs": [
    {
     "name": "stdout",
     "output_type": "stream",
     "text": [
      "+---+---------------+--------------+--------------+---------------+---------+------+---------+\n",
      "|SNo|ObservationDate|Province/State|Country/Region|    Last Update|Confirmed|Deaths|Recovered|\n",
      "+---+---------------+--------------+--------------+---------------+---------+------+---------+\n",
      "|  1|     01/22/2020|         Anhui|Mainland China|1/22/2020 17:00|      1.0|   0.0|      0.0|\n",
      "|  2|     01/22/2020|       Beijing|Mainland China|1/22/2020 17:00|     14.0|   0.0|      0.0|\n",
      "|  3|     01/22/2020|     Chongqing|Mainland China|1/22/2020 17:00|      6.0|   0.0|      0.0|\n",
      "|  4|     01/22/2020|        Fujian|Mainland China|1/22/2020 17:00|      1.0|   0.0|      0.0|\n",
      "|  5|     01/22/2020|         Gansu|Mainland China|1/22/2020 17:00|      0.0|   0.0|      0.0|\n",
      "|  6|     01/22/2020|     Guangdong|Mainland China|1/22/2020 17:00|     26.0|   0.0|      0.0|\n",
      "|  7|     01/22/2020|       Guangxi|Mainland China|1/22/2020 17:00|      2.0|   0.0|      0.0|\n",
      "|  8|     01/22/2020|       Guizhou|Mainland China|1/22/2020 17:00|      1.0|   0.0|      0.0|\n",
      "|  9|     01/22/2020|        Hainan|Mainland China|1/22/2020 17:00|      4.0|   0.0|      0.0|\n",
      "| 10|     01/22/2020|         Hebei|Mainland China|1/22/2020 17:00|      1.0|   0.0|      0.0|\n",
      "| 11|     01/22/2020|  Heilongjiang|Mainland China|1/22/2020 17:00|      0.0|   0.0|      0.0|\n",
      "| 12|     01/22/2020|         Henan|Mainland China|1/22/2020 17:00|      5.0|   0.0|      0.0|\n",
      "| 13|     01/22/2020|     Hong Kong|     Hong Kong|1/22/2020 17:00|      0.0|   0.0|      0.0|\n",
      "| 14|     01/22/2020|         Hubei|Mainland China|1/22/2020 17:00|    444.0|  17.0|     28.0|\n",
      "| 15|     01/22/2020|         Hunan|Mainland China|1/22/2020 17:00|      4.0|   0.0|      0.0|\n",
      "| 16|     01/22/2020|Inner Mongolia|Mainland China|1/22/2020 17:00|      0.0|   0.0|      0.0|\n",
      "| 17|     01/22/2020|       Jiangsu|Mainland China|1/22/2020 17:00|      1.0|   0.0|      0.0|\n",
      "| 18|     01/22/2020|       Jiangxi|Mainland China|1/22/2020 17:00|      2.0|   0.0|      0.0|\n",
      "| 19|     01/22/2020|         Jilin|Mainland China|1/22/2020 17:00|      0.0|   0.0|      0.0|\n",
      "| 20|     01/22/2020|      Liaoning|Mainland China|1/22/2020 17:00|      2.0|   0.0|      0.0|\n",
      "+---+---------------+--------------+--------------+---------------+---------+------+---------+\n",
      "only showing top 20 rows\n",
      "\n"
     ]
    }
   ],
   "source": [
    "df.na.fill('N/A',subset=['Province/State']).show()"
   ]
  },
  {
   "cell_type": "code",
   "execution_count": 100,
   "id": "2060e76f",
   "metadata": {},
   "outputs": [],
   "source": [
    "dfGroupByMax = df.groupBy(\"Province/State\").max()"
   ]
  },
  {
   "cell_type": "code",
   "execution_count": 101,
   "id": "796c8d4a",
   "metadata": {},
   "outputs": [],
   "source": [
    "from pyspark.sql.functions import col, desc"
   ]
  },
  {
   "cell_type": "raw",
   "id": "ce5159d8",
   "metadata": {},
   "source": []
  },
  {
   "cell_type": "code",
   "execution_count": 106,
   "id": "a865ec0e",
   "metadata": {},
   "outputs": [
    {
     "name": "stdout",
     "output_type": "stream",
     "text": [
      "+--------------+--------+--------------+-----------+--------------+\n",
      "|Province/State|max(SNo)|max(Confirmed)|max(Deaths)|max(Recovered)|\n",
      "+--------------+--------+--------------+-----------+--------------+\n",
      "|       England|  284851|     3861901.0|   112182.0|           0.0|\n",
      "|           N/A|  284714|     5605532.0|   104093.0|     4480381.0|\n",
      "|     Sao Paulo|  285171|     2923367.0|    97058.0|     2588973.0|\n",
      "|   Maharashtra|  285006|     4665754.0|    69615.0|     3930302.0|\n",
      "|    California|  284792|     3744830.0|    62078.0|           6.0|\n",
      "|      New York|  285064|     2054848.0|    52358.0|           0.0|\n",
      "|         Texas|  285216|     2897110.0|    50290.0|           0.0|\n",
      "|Rio de Janeiro|  285147|      747449.0|    44835.0|      694160.0|\n",
      "|       Florida|  284858|     2242778.0|    35268.0|           0.0|\n",
      "|  Minas Gerais|  285029|     1370202.0|    34289.0|     1256330.0|\n",
      "+--------------+--------+--------------+-----------+--------------+\n",
      "only showing top 10 rows\n",
      "\n"
     ]
    }
   ],
   "source": [
    "dfGroupByMax.sort (col (\"max(Deaths)\").desc() ).show(10)"
   ]
  },
  {
   "cell_type": "code",
   "execution_count": 108,
   "id": "f0d2ed8f",
   "metadata": {},
   "outputs": [
    {
     "name": "stdout",
     "output_type": "stream",
     "text": [
      "+--------------------+--------+--------------+-----------+--------------+\n",
      "|      Province/State|max(SNo)|max(Confirmed)|max(Deaths)|max(Recovered)|\n",
      "+--------------------+--------+--------------+-----------+--------------+\n",
      "| Jackson County, OR |    4469|           2.0|        0.0|           0.0|\n",
      "|             Antwerp|  284740|      127330.0|        0.0|           0.0|\n",
      "|Montgomery County...|    4419|           5.0|        0.0|           0.0|\n",
      "|   Washoe County, NV|    4479|           2.0|        0.0|           0.0|\n",
      "|Unknown Location, MA|    4547|           1.0|        0.0|           0.0|\n",
      "|            Anguilla|  284736|          95.0|        0.0|          29.0|\n",
      "|Omaha, NE (From D...|    4559|          11.0|        0.0|           0.0|\n",
      "|Riverside County, CA|    4533|           1.0|        0.0|           0.0|\n",
      "| Okaloosa County, FL|    4529|           1.0|        0.0|           0.0|\n",
      "|  El Paso County, CO|    4511|           1.0|        0.0|           0.0|\n",
      "+--------------------+--------+--------------+-----------+--------------+\n",
      "only showing top 10 rows\n",
      "\n"
     ]
    }
   ],
   "source": [
    "dfGroupByMax.sort (col (\"max(Deaths)\").asc() ).show(10)"
   ]
  },
  {
   "cell_type": "code",
   "execution_count": 117,
   "id": "a89cdea8",
   "metadata": {},
   "outputs": [],
   "source": [
    "from pyspark.sql.functions import format_number"
   ]
  },
  {
   "cell_type": "code",
   "execution_count": 118,
   "id": "404258ca",
   "metadata": {},
   "outputs": [
    {
     "name": "stdout",
     "output_type": "stream",
     "text": [
      "+--------------------------------+\n",
      "|format_number(max(Recovered), 0)|\n",
      "+--------------------------------+\n",
      "|                               0|\n",
      "|                       4,480,381|\n",
      "|                       2,588,973|\n",
      "|                       3,930,302|\n",
      "|                               6|\n",
      "|                               0|\n",
      "|                               0|\n",
      "|                         694,160|\n",
      "|                               0|\n",
      "|                       1,256,330|\n",
      "+--------------------------------+\n",
      "only showing top 10 rows\n",
      "\n"
     ]
    }
   ],
   "source": [
    "dfGroupByMax.sort( col(\"max(Deaths)\").desc() ).select(format_number('max(Recovered)', 0)).show(10)"
   ]
  },
  {
   "cell_type": "code",
   "execution_count": 123,
   "id": "0a0e17ce",
   "metadata": {},
   "outputs": [],
   "source": [
    "dfGroupByCount = df.groupBy(\"Country/Region\").count()"
   ]
  },
  {
   "cell_type": "code",
   "execution_count": 125,
   "id": "cd2717fc",
   "metadata": {},
   "outputs": [
    {
     "name": "stdout",
     "output_type": "stream",
     "text": [
      "+--------------+-----+\n",
      "|Country/Region|count|\n",
      "+--------------+-----+\n",
      "|          Chad|  410|\n",
      "|        Russia|28010|\n",
      "|      Paraguay|  421|\n",
      "+--------------+-----+\n",
      "only showing top 3 rows\n",
      "\n"
     ]
    }
   ],
   "source": [
    "dfGroupByCount.show(3)"
   ]
  },
  {
   "cell_type": "code",
   "execution_count": 127,
   "id": "b2519ad7",
   "metadata": {},
   "outputs": [
    {
     "name": "stdout",
     "output_type": "stream",
     "text": [
      "+---------+--------------+\n",
      "|  exemplo|Province/State|\n",
      "+---------+--------------+\n",
      "|        0|       England|\n",
      "|4,480,381|           N/A|\n",
      "|2,588,973|     Sao Paulo|\n",
      "|3,930,302|   Maharashtra|\n",
      "|        6|    California|\n",
      "|        0|      New York|\n",
      "|        0|         Texas|\n",
      "|  694,160|Rio de Janeiro|\n",
      "|        0|       Florida|\n",
      "|1,256,330|  Minas Gerais|\n",
      "+---------+--------------+\n",
      "only showing top 10 rows\n",
      "\n"
     ]
    }
   ],
   "source": [
    "dfGroupByMax.sort( col(\"max(Deaths)\").desc() ).select(format_number('max(Recovered)', 0).alias('exemplo') , 'Province/State').show(10)"
   ]
  },
  {
   "cell_type": "code",
   "execution_count": 129,
   "id": "f0c5f180",
   "metadata": {},
   "outputs": [
    {
     "name": "stdout",
     "output_type": "stream",
     "text": [
      "+--------------+--------+--------------+-----------+--------------+\n",
      "|Province/State|max(SNo)|max(Confirmed)|max(Deaths)|max(Recovered)|\n",
      "+--------------+--------+--------------+-----------+--------------+\n",
      "|           N/A|  284714|     5605532.0|   104093.0|     4480381.0|\n",
      "|   Maharashtra|  285006|     4665754.0|    69615.0|     3930302.0|\n",
      "|       England|  284851|     3861901.0|   112182.0|           0.0|\n",
      "|    California|  284792|     3744830.0|    62078.0|           6.0|\n",
      "|     Sao Paulo|  285171|     2923367.0|    97058.0|     2588973.0|\n",
      "|         Texas|  285216|     2897110.0|    50290.0|           0.0|\n",
      "|       Florida|  284858|     2242778.0|    35268.0|           0.0|\n",
      "|      New York|  285064|     2054848.0|    52358.0|           0.0|\n",
      "|        Kerala|  284954|     1606819.0|     5356.0|     1277294.0|\n",
      "|     Karnataka|  284951|     1564132.0|    15794.0|     1143250.0|\n",
      "+--------------+--------+--------------+-----------+--------------+\n",
      "only showing top 10 rows\n",
      "\n"
     ]
    }
   ],
   "source": [
    "dfGroupByMax.sort (col (\"max(Confirmed)\").desc() ).show(10)"
   ]
  },
  {
   "cell_type": "code",
   "execution_count": 132,
   "id": "e6cd39f1",
   "metadata": {},
   "outputs": [
    {
     "name": "stdout",
     "output_type": "stream",
     "text": [
      "+--------------------+--------+--------------+-----------+--------------+\n",
      "|      Province/State|max(SNo)|max(Confirmed)|max(Deaths)|max(Recovered)|\n",
      "+--------------------+--------+--------------+-----------+--------------+\n",
      "|      American Samoa|   10315|           0.0|        0.0|           0.0|\n",
      "|Jervis Bay Territory|    7896|           0.0|        0.0|           0.0|\n",
      "|External territories|    7865|           0.0|        0.0|           0.0|\n",
      "|Montgomery County...|    4558|           0.0|        0.0|           0.0|\n",
      "|           Recovered|  285140|           0.0|        0.0|     6399531.0|\n",
      "|Riverside County, CA|    4533|           1.0|        0.0|           0.0|\n",
      "|Jefferson County, WA|    4520|           1.0|        0.0|           0.0|\n",
      "| Okaloosa County, FL|    4529|           1.0|        0.0|           0.0|\n",
      "|  Johnson County, KS|    4522|           1.0|        0.0|           0.0|\n",
      "|Unknown Location, MA|    4547|           1.0|        0.0|           0.0|\n",
      "+--------------------+--------+--------------+-----------+--------------+\n",
      "only showing top 10 rows\n",
      "\n"
     ]
    }
   ],
   "source": [
    "dfGroupByMax.sort (col (\"max(Confirmed)\").asc() ).show(10)"
   ]
  },
  {
   "cell_type": "code",
   "execution_count": 135,
   "id": "567d4f76",
   "metadata": {},
   "outputs": [],
   "source": [
    "dfGroupByCount = df.groupBy(\"Province/State\").count()"
   ]
  },
  {
   "cell_type": "code",
   "execution_count": 136,
   "id": "e37503d3",
   "metadata": {},
   "outputs": [
    {
     "name": "stdout",
     "output_type": "stream",
     "text": [
      "+--------------+-----+\n",
      "|Province/State|count|\n",
      "+--------------+-----+\n",
      "|          Utah|  419|\n",
      "|     Cajamarca|  340|\n",
      "|       Antwerp|  172|\n",
      "+--------------+-----+\n",
      "only showing top 3 rows\n",
      "\n"
     ]
    }
   ],
   "source": [
    "dfGroupByCount.show(3)  "
   ]
  },
  {
   "cell_type": "code",
   "execution_count": 138,
   "id": "11d093a5",
   "metadata": {},
   "outputs": [
    {
     "name": "stdout",
     "output_type": "stream",
     "text": [
      "+------------------+--------+--------------+-----------+--------------+\n",
      "|    Province/State|max(SNo)|max(Confirmed)|max(Deaths)|max(Recovered)|\n",
      "+------------------+--------+--------------+-----------+--------------+\n",
      "|      Zuid-Holland|  285307|      359327.0|     4138.0|           0.0|\n",
      "|   Zhytomyr Oblast|  285306|       84641.0|     1597.0|       68529.0|\n",
      "|          Zhejiang|  285305|        1344.0|        1.0|        1322.0|\n",
      "|           Zeeland|  285304|       26045.0|      233.0|           0.0|\n",
      "| Zaporizhia Oblast|  285303|       96531.0|     1919.0|       78700.0|\n",
      "|Zakarpattia Oblast|  285302|       60151.0|     1527.0|       54174.0|\n",
      "|         Zacatecas|  285301|       30059.0|     2750.0|        9907.0|\n",
      "|  Zabaykalsky Krai|  285300|       42364.0|      630.0|       40903.0|\n",
      "|            Yunnan|  285299|         344.0|        2.0|         291.0|\n",
      "|             Yukon|  285298|          81.0|        2.0|          79.0|\n",
      "+------------------+--------+--------------+-----------+--------------+\n",
      "only showing top 10 rows\n",
      "\n"
     ]
    }
   ],
   "source": [
    "dfGroupByMax.sort( col(\"Province/State\").desc() ).show(10)"
   ]
  },
  {
   "cell_type": "code",
   "execution_count": 223,
   "id": "4e306b3b",
   "metadata": {},
   "outputs": [],
   "source": [
    "from pyspark.sql.functions import year"
   ]
  },
  {
   "cell_type": "code",
   "execution_count": 144,
   "id": "44052ecb",
   "metadata": {},
   "outputs": [],
   "source": [
    "dfGroupByCount = df.groupBy(\"ObservationDate\").count()"
   ]
  },
  {
   "cell_type": "code",
   "execution_count": 146,
   "id": "8687ce01",
   "metadata": {},
   "outputs": [
    {
     "name": "stdout",
     "output_type": "stream",
     "text": [
      "+---------------+-----+\n",
      "|ObservationDate|count|\n",
      "+---------------+-----+\n",
      "|     02/28/2020|  115|\n",
      "|     03/22/2020|  302|\n",
      "|     04/12/2020|  323|\n",
      "+---------------+-----+\n",
      "only showing top 3 rows\n",
      "\n"
     ]
    }
   ],
   "source": [
    "dfGroupByCount.show(3)  "
   ]
  },
  {
   "cell_type": "code",
   "execution_count": 147,
   "id": "b975b20d",
   "metadata": {},
   "outputs": [],
   "source": [
    "dfGroupByCount = df.groupBy(\"Last Update\").count()"
   ]
  },
  {
   "cell_type": "code",
   "execution_count": 151,
   "id": "0cad6ca2",
   "metadata": {},
   "outputs": [
    {
     "name": "stdout",
     "output_type": "stream",
     "text": [
      "+-------------------+-----+\n",
      "|        Last Update|count|\n",
      "+-------------------+-----+\n",
      "|2020-02-10T13:23:06|    1|\n",
      "|2020-02-10T19:03:02|    3|\n",
      "|2020-02-21T13:03:09|    2|\n",
      "|2020-03-08T06:53:04|    1|\n",
      "|2020-03-15T06:53:03|    2|\n",
      "|2020-02-11T09:23:04|    1|\n",
      "|2020-02-17T15:43:02|    2|\n",
      "|2020-02-20T23:13:05|    4|\n",
      "|2020-02-25T02:23:05|    2|\n",
      "|2020-02-26T23:53:01|    1|\n",
      "+-------------------+-----+\n",
      "only showing top 10 rows\n",
      "\n"
     ]
    }
   ],
   "source": [
    "dfGroupByCount.show(10)"
   ]
  },
  {
   "cell_type": "code",
   "execution_count": 225,
   "id": "a572d41b",
   "metadata": {},
   "outputs": [],
   "source": [
    "#importanto todas as funções necessárias para realizar a analise final(year/ano foi importado antes!)\n",
    "from pyspark.sql.functions import month"
   ]
  },
  {
   "cell_type": "code",
   "execution_count": 226,
   "id": "93cc8686",
   "metadata": {},
   "outputs": [],
   "source": [
    "from pyspark.sql.functions import dayofmonth"
   ]
  },
  {
   "cell_type": "code",
   "execution_count": null,
   "id": "82f3eccd",
   "metadata": {},
   "outputs": [],
   "source": [
    "#from pyspark.sql.functions import dayofmonth"
   ]
  },
  {
   "cell_type": "code",
   "execution_count": 156,
   "id": "decb134f",
   "metadata": {},
   "outputs": [],
   "source": [
    "#from pyspark import SQLContext"
   ]
  },
  {
   "cell_type": "code",
   "execution_count": 227,
   "id": "0f50cdd1",
   "metadata": {},
   "outputs": [],
   "source": [
    "from pyspark import SQLContext"
   ]
  },
  {
   "cell_type": "code",
   "execution_count": 228,
   "id": "3bca91d2",
   "metadata": {},
   "outputs": [],
   "source": [
    "from pyspark.sql.functions import max, min"
   ]
  },
  {
   "cell_type": "code",
   "execution_count": 162,
   "id": "0ddaa734",
   "metadata": {},
   "outputs": [
    {
     "name": "stdout",
     "output_type": "stream",
     "text": [
      "+---+---------------+--------------+--------------+---------------+---------+------+---------+\n",
      "|SNo|ObservationDate|Province/State|Country/Region|    Last Update|Confirmed|Deaths|Recovered|\n",
      "+---+---------------+--------------+--------------+---------------+---------+------+---------+\n",
      "|  1|     01/22/2020|         Anhui|Mainland China|1/22/2020 17:00|      1.0|   0.0|      0.0|\n",
      "|  2|     01/22/2020|       Beijing|Mainland China|1/22/2020 17:00|     14.0|   0.0|      0.0|\n",
      "|  3|     01/22/2020|     Chongqing|Mainland China|1/22/2020 17:00|      6.0|   0.0|      0.0|\n",
      "|  4|     01/22/2020|        Fujian|Mainland China|1/22/2020 17:00|      1.0|   0.0|      0.0|\n",
      "|  5|     01/22/2020|         Gansu|Mainland China|1/22/2020 17:00|      0.0|   0.0|      0.0|\n",
      "|  6|     01/22/2020|     Guangdong|Mainland China|1/22/2020 17:00|     26.0|   0.0|      0.0|\n",
      "|  7|     01/22/2020|       Guangxi|Mainland China|1/22/2020 17:00|      2.0|   0.0|      0.0|\n",
      "|  8|     01/22/2020|       Guizhou|Mainland China|1/22/2020 17:00|      1.0|   0.0|      0.0|\n",
      "|  9|     01/22/2020|        Hainan|Mainland China|1/22/2020 17:00|      4.0|   0.0|      0.0|\n",
      "| 10|     01/22/2020|         Hebei|Mainland China|1/22/2020 17:00|      1.0|   0.0|      0.0|\n",
      "| 11|     01/22/2020|  Heilongjiang|Mainland China|1/22/2020 17:00|      0.0|   0.0|      0.0|\n",
      "| 12|     01/22/2020|         Henan|Mainland China|1/22/2020 17:00|      5.0|   0.0|      0.0|\n",
      "| 13|     01/22/2020|     Hong Kong|     Hong Kong|1/22/2020 17:00|      0.0|   0.0|      0.0|\n",
      "| 14|     01/22/2020|         Hubei|Mainland China|1/22/2020 17:00|    444.0|  17.0|     28.0|\n",
      "| 15|     01/22/2020|         Hunan|Mainland China|1/22/2020 17:00|      4.0|   0.0|      0.0|\n",
      "| 16|     01/22/2020|Inner Mongolia|Mainland China|1/22/2020 17:00|      0.0|   0.0|      0.0|\n",
      "| 17|     01/22/2020|       Jiangsu|Mainland China|1/22/2020 17:00|      1.0|   0.0|      0.0|\n",
      "| 18|     01/22/2020|       Jiangxi|Mainland China|1/22/2020 17:00|      2.0|   0.0|      0.0|\n",
      "| 19|     01/22/2020|         Jilin|Mainland China|1/22/2020 17:00|      0.0|   0.0|      0.0|\n",
      "| 20|     01/22/2020|      Liaoning|Mainland China|1/22/2020 17:00|      2.0|   0.0|      0.0|\n",
      "+---+---------------+--------------+--------------+---------------+---------+------+---------+\n",
      "only showing top 20 rows\n",
      "\n"
     ]
    }
   ],
   "source": [
    "df.show()"
   ]
  },
  {
   "cell_type": "code",
   "execution_count": 161,
   "id": "410b846a",
   "metadata": {},
   "outputs": [
    {
     "data": {
      "text/plain": [
       "['SNo',\n",
       " 'ObservationDate',\n",
       " 'Province/State',\n",
       " 'Country/Region',\n",
       " 'Last Update',\n",
       " 'Confirmed',\n",
       " 'Deaths',\n",
       " 'Recovered']"
      ]
     },
     "execution_count": 161,
     "metadata": {},
     "output_type": "execute_result"
    }
   ],
   "source": [
    "df.columns"
   ]
  },
  {
   "cell_type": "code",
   "execution_count": 178,
   "id": "95b6997e",
   "metadata": {},
   "outputs": [
    {
     "data": {
      "text/plain": [
       "pyspark.sql.dataframe.DataFrame"
      ]
     },
     "execution_count": 178,
     "metadata": {},
     "output_type": "execute_result"
    }
   ],
   "source": [
    "type(df)"
   ]
  },
  {
   "cell_type": "code",
   "execution_count": 186,
   "id": "8bfdcbce",
   "metadata": {},
   "outputs": [],
   "source": [
    "dftest = df.withColumn(\"ObservationDate\", df[\"Deaths\"]/df[\"Recovered\"])"
   ]
  },
  {
   "cell_type": "code",
   "execution_count": 192,
   "id": "3c53678c",
   "metadata": {},
   "outputs": [
    {
     "name": "stdout",
     "output_type": "stream",
     "text": [
      "+---+---------------+--------------+--------------+------------------+---------+------+---------+\n",
      "|SNo|ObservationDate|Province/State|Country/Region|       Last Update|Confirmed|Deaths|Recovered|\n",
      "+---+---------------+--------------+--------------+------------------+---------+------+---------+\n",
      "|  1|     01/22/2020|         Anhui|Mainland China|              null|      1.0|   0.0|      0.0|\n",
      "|  2|     01/22/2020|       Beijing|Mainland China|              null|     14.0|   0.0|      0.0|\n",
      "|  3|     01/22/2020|     Chongqing|Mainland China|              null|      6.0|   0.0|      0.0|\n",
      "|  4|     01/22/2020|        Fujian|Mainland China|              null|      1.0|   0.0|      0.0|\n",
      "|  5|     01/22/2020|         Gansu|Mainland China|              null|      0.0|   0.0|      0.0|\n",
      "|  6|     01/22/2020|     Guangdong|Mainland China|              null|     26.0|   0.0|      0.0|\n",
      "|  7|     01/22/2020|       Guangxi|Mainland China|              null|      2.0|   0.0|      0.0|\n",
      "|  8|     01/22/2020|       Guizhou|Mainland China|              null|      1.0|   0.0|      0.0|\n",
      "|  9|     01/22/2020|        Hainan|Mainland China|              null|      4.0|   0.0|      0.0|\n",
      "| 10|     01/22/2020|         Hebei|Mainland China|              null|      1.0|   0.0|      0.0|\n",
      "| 11|     01/22/2020|  Heilongjiang|Mainland China|              null|      0.0|   0.0|      0.0|\n",
      "| 12|     01/22/2020|         Henan|Mainland China|              null|      5.0|   0.0|      0.0|\n",
      "| 13|     01/22/2020|     Hong Kong|     Hong Kong|              null|      0.0|   0.0|      0.0|\n",
      "| 14|     01/22/2020|         Hubei|Mainland China|0.6071428571428571|    444.0|  17.0|     28.0|\n",
      "| 15|     01/22/2020|         Hunan|Mainland China|              null|      4.0|   0.0|      0.0|\n",
      "| 16|     01/22/2020|Inner Mongolia|Mainland China|              null|      0.0|   0.0|      0.0|\n",
      "| 17|     01/22/2020|       Jiangsu|Mainland China|              null|      1.0|   0.0|      0.0|\n",
      "| 18|     01/22/2020|       Jiangxi|Mainland China|              null|      2.0|   0.0|      0.0|\n",
      "| 19|     01/22/2020|         Jilin|Mainland China|              null|      0.0|   0.0|      0.0|\n",
      "| 20|     01/22/2020|      Liaoning|Mainland China|              null|      2.0|   0.0|      0.0|\n",
      "+---+---------------+--------------+--------------+------------------+---------+------+---------+\n",
      "only showing top 20 rows\n",
      "\n"
     ]
    }
   ],
   "source": [
    "dftest.show()"
   ]
  },
  {
   "cell_type": "code",
   "execution_count": 190,
   "id": "9bf1183b",
   "metadata": {},
   "outputs": [],
   "source": [
    "dftest = df.withColumn(\"Last Update\", df[\"Deaths\"]/df[\"Recovered\"])"
   ]
  },
  {
   "cell_type": "code",
   "execution_count": 194,
   "id": "1a4a02b2",
   "metadata": {},
   "outputs": [
    {
     "name": "stdout",
     "output_type": "stream",
     "text": [
      "+---+---------------+--------------+--------------+------------------+---------+------+---------+\n",
      "|SNo|ObservationDate|Province/State|Country/Region|       Last Update|Confirmed|Deaths|Recovered|\n",
      "+---+---------------+--------------+--------------+------------------+---------+------+---------+\n",
      "|  1|     01/22/2020|         Anhui|Mainland China|              null|      1.0|   0.0|      0.0|\n",
      "|  2|     01/22/2020|       Beijing|Mainland China|              null|     14.0|   0.0|      0.0|\n",
      "|  3|     01/22/2020|     Chongqing|Mainland China|              null|      6.0|   0.0|      0.0|\n",
      "|  4|     01/22/2020|        Fujian|Mainland China|              null|      1.0|   0.0|      0.0|\n",
      "|  5|     01/22/2020|         Gansu|Mainland China|              null|      0.0|   0.0|      0.0|\n",
      "|  6|     01/22/2020|     Guangdong|Mainland China|              null|     26.0|   0.0|      0.0|\n",
      "|  7|     01/22/2020|       Guangxi|Mainland China|              null|      2.0|   0.0|      0.0|\n",
      "|  8|     01/22/2020|       Guizhou|Mainland China|              null|      1.0|   0.0|      0.0|\n",
      "|  9|     01/22/2020|        Hainan|Mainland China|              null|      4.0|   0.0|      0.0|\n",
      "| 10|     01/22/2020|         Hebei|Mainland China|              null|      1.0|   0.0|      0.0|\n",
      "| 11|     01/22/2020|  Heilongjiang|Mainland China|              null|      0.0|   0.0|      0.0|\n",
      "| 12|     01/22/2020|         Henan|Mainland China|              null|      5.0|   0.0|      0.0|\n",
      "| 13|     01/22/2020|     Hong Kong|     Hong Kong|              null|      0.0|   0.0|      0.0|\n",
      "| 14|     01/22/2020|         Hubei|Mainland China|0.6071428571428571|    444.0|  17.0|     28.0|\n",
      "| 15|     01/22/2020|         Hunan|Mainland China|              null|      4.0|   0.0|      0.0|\n",
      "| 16|     01/22/2020|Inner Mongolia|Mainland China|              null|      0.0|   0.0|      0.0|\n",
      "| 17|     01/22/2020|       Jiangsu|Mainland China|              null|      1.0|   0.0|      0.0|\n",
      "| 18|     01/22/2020|       Jiangxi|Mainland China|              null|      2.0|   0.0|      0.0|\n",
      "| 19|     01/22/2020|         Jilin|Mainland China|              null|      0.0|   0.0|      0.0|\n",
      "| 20|     01/22/2020|      Liaoning|Mainland China|              null|      2.0|   0.0|      0.0|\n",
      "+---+---------------+--------------+--------------+------------------+---------+------+---------+\n",
      "only showing top 20 rows\n",
      "\n"
     ]
    }
   ],
   "source": [
    "dftest.show()"
   ]
  },
  {
   "cell_type": "code",
   "execution_count": 195,
   "id": "206d2add",
   "metadata": {},
   "outputs": [],
   "source": [
    "df = df.withColumn( 'Province/State', when ( col ('Province/State').isNull() , 'N/A' ).otherwise(df['Province/State'])   )"
   ]
  },
  {
   "cell_type": "code",
   "execution_count": 196,
   "id": "f391053a",
   "metadata": {},
   "outputs": [
    {
     "name": "stdout",
     "output_type": "stream",
     "text": [
      "+---+---------------+--------------+--------------+---------------+---------+------+---------+\n",
      "|SNo|ObservationDate|Province/State|Country/Region|    Last Update|Confirmed|Deaths|Recovered|\n",
      "+---+---------------+--------------+--------------+---------------+---------+------+---------+\n",
      "|  1|     01/22/2020|         Anhui|Mainland China|1/22/2020 17:00|      1.0|   0.0|      0.0|\n",
      "|  2|     01/22/2020|       Beijing|Mainland China|1/22/2020 17:00|     14.0|   0.0|      0.0|\n",
      "|  3|     01/22/2020|     Chongqing|Mainland China|1/22/2020 17:00|      6.0|   0.0|      0.0|\n",
      "|  4|     01/22/2020|        Fujian|Mainland China|1/22/2020 17:00|      1.0|   0.0|      0.0|\n",
      "|  5|     01/22/2020|         Gansu|Mainland China|1/22/2020 17:00|      0.0|   0.0|      0.0|\n",
      "|  6|     01/22/2020|     Guangdong|Mainland China|1/22/2020 17:00|     26.0|   0.0|      0.0|\n",
      "|  7|     01/22/2020|       Guangxi|Mainland China|1/22/2020 17:00|      2.0|   0.0|      0.0|\n",
      "|  8|     01/22/2020|       Guizhou|Mainland China|1/22/2020 17:00|      1.0|   0.0|      0.0|\n",
      "|  9|     01/22/2020|        Hainan|Mainland China|1/22/2020 17:00|      4.0|   0.0|      0.0|\n",
      "| 10|     01/22/2020|         Hebei|Mainland China|1/22/2020 17:00|      1.0|   0.0|      0.0|\n",
      "| 11|     01/22/2020|  Heilongjiang|Mainland China|1/22/2020 17:00|      0.0|   0.0|      0.0|\n",
      "| 12|     01/22/2020|         Henan|Mainland China|1/22/2020 17:00|      5.0|   0.0|      0.0|\n",
      "| 13|     01/22/2020|     Hong Kong|     Hong Kong|1/22/2020 17:00|      0.0|   0.0|      0.0|\n",
      "| 14|     01/22/2020|         Hubei|Mainland China|1/22/2020 17:00|    444.0|  17.0|     28.0|\n",
      "| 15|     01/22/2020|         Hunan|Mainland China|1/22/2020 17:00|      4.0|   0.0|      0.0|\n",
      "| 16|     01/22/2020|Inner Mongolia|Mainland China|1/22/2020 17:00|      0.0|   0.0|      0.0|\n",
      "| 17|     01/22/2020|       Jiangsu|Mainland China|1/22/2020 17:00|      1.0|   0.0|      0.0|\n",
      "| 18|     01/22/2020|       Jiangxi|Mainland China|1/22/2020 17:00|      2.0|   0.0|      0.0|\n",
      "| 19|     01/22/2020|         Jilin|Mainland China|1/22/2020 17:00|      0.0|   0.0|      0.0|\n",
      "| 20|     01/22/2020|      Liaoning|Mainland China|1/22/2020 17:00|      2.0|   0.0|      0.0|\n",
      "+---+---------------+--------------+--------------+---------------+---------+------+---------+\n",
      "only showing top 20 rows\n",
      "\n"
     ]
    }
   ],
   "source": [
    "df.show()"
   ]
  },
  {
   "cell_type": "code",
   "execution_count": 202,
   "id": "1ada1ff4",
   "metadata": {},
   "outputs": [],
   "source": [
    "dftest = df.withColumn(\"Deaths/Confirmed\" , df[\"Deaths\"]/df[\"Confirmed\"] )"
   ]
  },
  {
   "cell_type": "code",
   "execution_count": 205,
   "id": "5b09bae4",
   "metadata": {},
   "outputs": [
    {
     "name": "stdout",
     "output_type": "stream",
     "text": [
      "+---+---------------+--------------+--------------+---------------+---------+------+---------+--------------------+\n",
      "|SNo|ObservationDate|Province/State|Country/Region|    Last Update|Confirmed|Deaths|Recovered|    Deaths/Confirmed|\n",
      "+---+---------------+--------------+--------------+---------------+---------+------+---------+--------------------+\n",
      "|  1|     01/22/2020|         Anhui|Mainland China|1/22/2020 17:00|      1.0|   0.0|      0.0|                 0.0|\n",
      "|  2|     01/22/2020|       Beijing|Mainland China|1/22/2020 17:00|     14.0|   0.0|      0.0|                 0.0|\n",
      "|  3|     01/22/2020|     Chongqing|Mainland China|1/22/2020 17:00|      6.0|   0.0|      0.0|                 0.0|\n",
      "|  4|     01/22/2020|        Fujian|Mainland China|1/22/2020 17:00|      1.0|   0.0|      0.0|                 0.0|\n",
      "|  5|     01/22/2020|         Gansu|Mainland China|1/22/2020 17:00|      0.0|   0.0|      0.0|                null|\n",
      "|  6|     01/22/2020|     Guangdong|Mainland China|1/22/2020 17:00|     26.0|   0.0|      0.0|                 0.0|\n",
      "|  7|     01/22/2020|       Guangxi|Mainland China|1/22/2020 17:00|      2.0|   0.0|      0.0|                 0.0|\n",
      "|  8|     01/22/2020|       Guizhou|Mainland China|1/22/2020 17:00|      1.0|   0.0|      0.0|                 0.0|\n",
      "|  9|     01/22/2020|        Hainan|Mainland China|1/22/2020 17:00|      4.0|   0.0|      0.0|                 0.0|\n",
      "| 10|     01/22/2020|         Hebei|Mainland China|1/22/2020 17:00|      1.0|   0.0|      0.0|                 0.0|\n",
      "| 11|     01/22/2020|  Heilongjiang|Mainland China|1/22/2020 17:00|      0.0|   0.0|      0.0|                null|\n",
      "| 12|     01/22/2020|         Henan|Mainland China|1/22/2020 17:00|      5.0|   0.0|      0.0|                 0.0|\n",
      "| 13|     01/22/2020|     Hong Kong|     Hong Kong|1/22/2020 17:00|      0.0|   0.0|      0.0|                null|\n",
      "| 14|     01/22/2020|         Hubei|Mainland China|1/22/2020 17:00|    444.0|  17.0|     28.0|0.038288288288288286|\n",
      "| 15|     01/22/2020|         Hunan|Mainland China|1/22/2020 17:00|      4.0|   0.0|      0.0|                 0.0|\n",
      "| 16|     01/22/2020|Inner Mongolia|Mainland China|1/22/2020 17:00|      0.0|   0.0|      0.0|                null|\n",
      "| 17|     01/22/2020|       Jiangsu|Mainland China|1/22/2020 17:00|      1.0|   0.0|      0.0|                 0.0|\n",
      "| 18|     01/22/2020|       Jiangxi|Mainland China|1/22/2020 17:00|      2.0|   0.0|      0.0|                 0.0|\n",
      "| 19|     01/22/2020|         Jilin|Mainland China|1/22/2020 17:00|      0.0|   0.0|      0.0|                null|\n",
      "| 20|     01/22/2020|      Liaoning|Mainland China|1/22/2020 17:00|      2.0|   0.0|      0.0|                 0.0|\n",
      "| 21|     01/22/2020|         Macau|         Macau|1/22/2020 17:00|      1.0|   0.0|      0.0|                 0.0|\n",
      "| 22|     01/22/2020|       Ningxia|Mainland China|1/22/2020 17:00|      1.0|   0.0|      0.0|                 0.0|\n",
      "| 23|     01/22/2020|       Qinghai|Mainland China|1/22/2020 17:00|      0.0|   0.0|      0.0|                null|\n",
      "| 24|     01/22/2020|       Shaanxi|Mainland China|1/22/2020 17:00|      0.0|   0.0|      0.0|                null|\n",
      "| 25|     01/22/2020|      Shandong|Mainland China|1/22/2020 17:00|      2.0|   0.0|      0.0|                 0.0|\n",
      "| 26|     01/22/2020|      Shanghai|Mainland China|1/22/2020 17:00|      9.0|   0.0|      0.0|                 0.0|\n",
      "| 27|     01/22/2020|        Shanxi|Mainland China|1/22/2020 17:00|      1.0|   0.0|      0.0|                 0.0|\n",
      "| 28|     01/22/2020|       Sichuan|Mainland China|1/22/2020 17:00|      5.0|   0.0|      0.0|                 0.0|\n",
      "| 29|     01/22/2020|        Taiwan|        Taiwan|1/22/2020 17:00|      1.0|   0.0|      0.0|                 0.0|\n",
      "| 30|     01/22/2020|       Tianjin|Mainland China|1/22/2020 17:00|      4.0|   0.0|      0.0|                 0.0|\n",
      "| 31|     01/22/2020|         Tibet|Mainland China|1/22/2020 17:00|      0.0|   0.0|      0.0|                null|\n",
      "| 32|     01/22/2020|    Washington|            US|1/22/2020 17:00|      1.0|   0.0|      0.0|                 0.0|\n",
      "| 33|     01/22/2020|      Xinjiang|Mainland China|1/22/2020 17:00|      0.0|   0.0|      0.0|                null|\n",
      "| 34|     01/22/2020|        Yunnan|Mainland China|1/22/2020 17:00|      1.0|   0.0|      0.0|                 0.0|\n",
      "| 35|     01/22/2020|      Zhejiang|Mainland China|1/22/2020 17:00|     10.0|   0.0|      0.0|                 0.0|\n",
      "| 36|     01/22/2020|           N/A|         Japan|1/22/2020 17:00|      2.0|   0.0|      0.0|                 0.0|\n",
      "| 37|     01/22/2020|           N/A|      Thailand|1/22/2020 17:00|      4.0|   0.0|      2.0|                 0.0|\n",
      "| 38|     01/22/2020|           N/A|   South Korea|1/22/2020 17:00|      1.0|   0.0|      0.0|                 0.0|\n",
      "| 39|     01/22/2020|       Unknown|         China|1/22/2020 17:00|      0.0|   0.0|      0.0|                null|\n",
      "| 40|     01/23/2020|         Anhui|Mainland China|  1/23/20 17:00|      9.0|   0.0|      0.0|                 0.0|\n",
      "| 41|     01/23/2020|       Beijing|Mainland China|  1/23/20 17:00|     22.0|   0.0|      0.0|                 0.0|\n",
      "| 42|     01/23/2020|     Chongqing|Mainland China|  1/23/20 17:00|      9.0|   0.0|      0.0|                 0.0|\n",
      "| 43|     01/23/2020|        Fujian|Mainland China|  1/23/20 17:00|      5.0|   0.0|      0.0|                 0.0|\n",
      "| 44|     01/23/2020|         Gansu|Mainland China|  1/23/20 17:00|      2.0|   0.0|      0.0|                 0.0|\n",
      "| 45|     01/23/2020|     Guangdong|Mainland China|  1/23/20 17:00|     32.0|   0.0|      2.0|                 0.0|\n",
      "| 46|     01/23/2020|       Guangxi|Mainland China|  1/23/20 17:00|      5.0|   0.0|      0.0|                 0.0|\n",
      "| 47|     01/23/2020|       Guizhou|Mainland China|  1/23/20 17:00|      3.0|   0.0|      0.0|                 0.0|\n",
      "| 48|     01/23/2020|        Hainan|Mainland China|  1/23/20 17:00|      5.0|   0.0|      0.0|                 0.0|\n",
      "| 49|     01/23/2020|         Hubei|Mainland China|  1/23/20 17:00|    444.0|  17.0|     28.0|0.038288288288288286|\n",
      "| 50|     01/23/2020|  Heilongjiang|Mainland China|  1/23/20 17:00|      2.0|   0.0|      0.0|                 0.0|\n",
      "| 51|     01/23/2020|         Henan|Mainland China|  1/23/20 17:00|      5.0|   0.0|      0.0|                 0.0|\n",
      "| 52|     01/23/2020|     Hong Kong|     Hong Kong|  1/23/20 17:00|      2.0|   0.0|      0.0|                 0.0|\n",
      "| 53|     01/23/2020|         Hubei|Mainland China|  1/23/20 17:00|    444.0|  17.0|     28.0|0.038288288288288286|\n",
      "| 54|     01/23/2020|         Hunan|Mainland China|  1/23/20 17:00|      9.0|   0.0|      0.0|                 0.0|\n",
      "| 55|     01/23/2020|Inner Mongolia|Mainland China|  1/23/20 17:00|      0.0|   0.0|      0.0|                null|\n",
      "| 56|     01/23/2020|       Jiangsu|Mainland China|  1/23/20 17:00|      5.0|   0.0|      0.0|                 0.0|\n",
      "| 57|     01/23/2020|       Jiangxi|Mainland China|  1/23/20 17:00|      7.0|   0.0|      0.0|                 0.0|\n",
      "| 58|     01/23/2020|         Jilin|Mainland China|  1/23/20 17:00|      1.0|   0.0|      0.0|                 0.0|\n",
      "| 59|     01/23/2020|      Liaoning|Mainland China|  1/23/20 17:00|      3.0|   0.0|      0.0|                 0.0|\n",
      "| 60|     01/23/2020|         Macau|         Macau|  1/23/20 17:00|      2.0|   0.0|      0.0|                 0.0|\n",
      "+---+---------------+--------------+--------------+---------------+---------+------+---------+--------------------+\n",
      "only showing top 60 rows\n",
      "\n"
     ]
    }
   ],
   "source": [
    "dftest.show(60)"
   ]
  },
  {
   "cell_type": "code",
   "execution_count": 207,
   "id": "9d094d1b",
   "metadata": {},
   "outputs": [],
   "source": [
    "dftest = df.withColumn( 'Deaths', when ( col ('Deaths').isNull() , 'N/A' ).otherwise(df['Deaths'])   )"
   ]
  },
  {
   "cell_type": "code",
   "execution_count": 209,
   "id": "6aa69e12",
   "metadata": {},
   "outputs": [
    {
     "name": "stdout",
     "output_type": "stream",
     "text": [
      "+---+---------------+--------------+--------------+---------------+---------+------+---------+\n",
      "|SNo|ObservationDate|Province/State|Country/Region|    Last Update|Confirmed|Deaths|Recovered|\n",
      "+---+---------------+--------------+--------------+---------------+---------+------+---------+\n",
      "|  1|     01/22/2020|         Anhui|Mainland China|1/22/2020 17:00|      1.0|   0.0|      0.0|\n",
      "|  2|     01/22/2020|       Beijing|Mainland China|1/22/2020 17:00|     14.0|   0.0|      0.0|\n",
      "|  3|     01/22/2020|     Chongqing|Mainland China|1/22/2020 17:00|      6.0|   0.0|      0.0|\n",
      "+---+---------------+--------------+--------------+---------------+---------+------+---------+\n",
      "only showing top 3 rows\n",
      "\n"
     ]
    }
   ],
   "source": [
    "dftest.show(3)"
   ]
  },
  {
   "cell_type": "code",
   "execution_count": 216,
   "id": "63f1f3b1",
   "metadata": {},
   "outputs": [
    {
     "name": "stdout",
     "output_type": "stream",
     "text": [
      "+---+---------------+--------------+--------------+---------------+---------+------+---------+\n",
      "|SNo|ObservationDate|Province/State|Country/Region|    Last Update|Confirmed|Deaths|Recovered|\n",
      "+---+---------------+--------------+--------------+---------------+---------+------+---------+\n",
      "|  1|     01/22/2020|         Anhui|Mainland China|1/22/2020 17:00|      1.0|   0.0|      0.0|\n",
      "|  2|     01/22/2020|       Beijing|Mainland China|1/22/2020 17:00|     14.0|   0.0|      0.0|\n",
      "|  3|     01/22/2020|     Chongqing|Mainland China|1/22/2020 17:00|      6.0|   0.0|      0.0|\n",
      "|  4|     01/22/2020|        Fujian|Mainland China|1/22/2020 17:00|      1.0|   0.0|      0.0|\n",
      "|  5|     01/22/2020|         Gansu|Mainland China|1/22/2020 17:00|      0.0|   0.0|      0.0|\n",
      "|  6|     01/22/2020|     Guangdong|Mainland China|1/22/2020 17:00|     26.0|   0.0|      0.0|\n",
      "+---+---------------+--------------+--------------+---------------+---------+------+---------+\n",
      "only showing top 6 rows\n",
      "\n"
     ]
    }
   ],
   "source": [
    "dftest.na.fill('N/A',subset=['Deaths']).show(6)"
   ]
  },
  {
   "cell_type": "code",
   "execution_count": 221,
   "id": "3e884f2b",
   "metadata": {},
   "outputs": [
    {
     "name": "stdout",
     "output_type": "stream",
     "text": [
      "+---+---------------+--------------+--------------+---------------+---------+------+---------+\n",
      "|SNo|ObservationDate|Province/State|Country/Region|    Last Update|Confirmed|Deaths|Recovered|\n",
      "+---+---------------+--------------+--------------+---------------+---------+------+---------+\n",
      "|  1|     01/22/2020|         Anhui|Mainland China|1/22/2020 17:00|      1.0|   0.0|      0.0|\n",
      "|  2|     01/22/2020|       Beijing|Mainland China|1/22/2020 17:00|     14.0|   0.0|      0.0|\n",
      "|  3|     01/22/2020|     Chongqing|Mainland China|1/22/2020 17:00|      6.0|   0.0|      0.0|\n",
      "|  4|     01/22/2020|        Fujian|Mainland China|1/22/2020 17:00|      1.0|   0.0|      0.0|\n",
      "|  5|     01/22/2020|         Gansu|Mainland China|1/22/2020 17:00|      0.0|   0.0|      0.0|\n",
      "|  6|     01/22/2020|     Guangdong|Mainland China|1/22/2020 17:00|     26.0|   0.0|      0.0|\n",
      "|  7|     01/22/2020|       Guangxi|Mainland China|1/22/2020 17:00|      2.0|   0.0|      0.0|\n",
      "|  8|     01/22/2020|       Guizhou|Mainland China|1/22/2020 17:00|      1.0|   0.0|      0.0|\n",
      "|  9|     01/22/2020|        Hainan|Mainland China|1/22/2020 17:00|      4.0|   0.0|      0.0|\n",
      "| 10|     01/22/2020|         Hebei|Mainland China|1/22/2020 17:00|      1.0|   0.0|      0.0|\n",
      "| 11|     01/22/2020|  Heilongjiang|Mainland China|1/22/2020 17:00|      0.0|   0.0|      0.0|\n",
      "| 12|     01/22/2020|         Henan|Mainland China|1/22/2020 17:00|      5.0|   0.0|      0.0|\n",
      "| 13|     01/22/2020|     Hong Kong|     Hong Kong|1/22/2020 17:00|      0.0|   0.0|      0.0|\n",
      "| 14|     01/22/2020|         Hubei|Mainland China|1/22/2020 17:00|    444.0|  17.0|     28.0|\n",
      "| 15|     01/22/2020|         Hunan|Mainland China|1/22/2020 17:00|      4.0|   0.0|      0.0|\n",
      "| 16|     01/22/2020|Inner Mongolia|Mainland China|1/22/2020 17:00|      0.0|   0.0|      0.0|\n",
      "| 17|     01/22/2020|       Jiangsu|Mainland China|1/22/2020 17:00|      1.0|   0.0|      0.0|\n",
      "| 18|     01/22/2020|       Jiangxi|Mainland China|1/22/2020 17:00|      2.0|   0.0|      0.0|\n",
      "| 19|     01/22/2020|         Jilin|Mainland China|1/22/2020 17:00|      0.0|   0.0|      0.0|\n",
      "| 20|     01/22/2020|      Liaoning|Mainland China|1/22/2020 17:00|      2.0|   0.0|      0.0|\n",
      "+---+---------------+--------------+--------------+---------------+---------+------+---------+\n",
      "only showing top 20 rows\n",
      "\n"
     ]
    }
   ],
   "source": [
    "dftest.na.fill(\"Deaths\").show()"
   ]
  },
  {
   "cell_type": "code",
   "execution_count": 238,
   "id": "b26307b9",
   "metadata": {},
   "outputs": [],
   "source": [
    "dftest2 = df.withColumn(\"Last Update\" , df[\"Last Update\"] )"
   ]
  },
  {
   "cell_type": "code",
   "execution_count": 239,
   "id": "5ebfe3b7",
   "metadata": {},
   "outputs": [
    {
     "name": "stdout",
     "output_type": "stream",
     "text": [
      "+---+---------------+--------------+--------------+---------------+---------+------+---------+\n",
      "|SNo|ObservationDate|Province/State|Country/Region|    Last Update|Confirmed|Deaths|Recovered|\n",
      "+---+---------------+--------------+--------------+---------------+---------+------+---------+\n",
      "|  1|     01/22/2020|         Anhui|Mainland China|1/22/2020 17:00|      1.0|   0.0|      0.0|\n",
      "|  2|     01/22/2020|       Beijing|Mainland China|1/22/2020 17:00|     14.0|   0.0|      0.0|\n",
      "|  3|     01/22/2020|     Chongqing|Mainland China|1/22/2020 17:00|      6.0|   0.0|      0.0|\n",
      "+---+---------------+--------------+--------------+---------------+---------+------+---------+\n",
      "only showing top 3 rows\n",
      "\n"
     ]
    }
   ],
   "source": [
    "dftest2.show(3)"
   ]
  },
  {
   "cell_type": "code",
   "execution_count": 243,
   "id": "1af1c362",
   "metadata": {},
   "outputs": [
    {
     "name": "stdout",
     "output_type": "stream",
     "text": [
      "+-----------------+\n",
      "|year(Last Update)|\n",
      "+-----------------+\n",
      "|             null|\n",
      "|             null|\n",
      "|             null|\n",
      "|             null|\n",
      "|             null|\n",
      "|             null|\n",
      "|             null|\n",
      "|             null|\n",
      "|             null|\n",
      "|             null|\n",
      "|             null|\n",
      "|             null|\n",
      "|             null|\n",
      "|             null|\n",
      "|             null|\n",
      "|             null|\n",
      "|             null|\n",
      "|             null|\n",
      "|             null|\n",
      "|             null|\n",
      "|             null|\n",
      "|             null|\n",
      "|             null|\n",
      "|             null|\n",
      "|             null|\n",
      "|             null|\n",
      "|             null|\n",
      "|             null|\n",
      "|             null|\n",
      "|             null|\n",
      "|             null|\n",
      "|             null|\n",
      "|             null|\n",
      "|             null|\n",
      "|             null|\n",
      "|             null|\n",
      "|             null|\n",
      "|             null|\n",
      "|             null|\n",
      "|             null|\n",
      "|             null|\n",
      "|             null|\n",
      "|             null|\n",
      "|             null|\n",
      "|             null|\n",
      "|             null|\n",
      "|             null|\n",
      "|             null|\n",
      "|             null|\n",
      "|             null|\n",
      "|             null|\n",
      "|             null|\n",
      "|             null|\n",
      "|             null|\n",
      "|             null|\n",
      "|             null|\n",
      "|             null|\n",
      "|             null|\n",
      "|             null|\n",
      "|             null|\n",
      "|             null|\n",
      "|             null|\n",
      "|             null|\n",
      "|             null|\n",
      "|             null|\n",
      "|             null|\n",
      "|             null|\n",
      "|             null|\n",
      "|             null|\n",
      "|             null|\n",
      "|             null|\n",
      "|             null|\n",
      "|             null|\n",
      "|             null|\n",
      "|             null|\n",
      "|             null|\n",
      "|             null|\n",
      "|             null|\n",
      "|             null|\n",
      "|             null|\n",
      "|             null|\n",
      "|             null|\n",
      "|             null|\n",
      "|             null|\n",
      "|             null|\n",
      "|             null|\n",
      "|             null|\n",
      "|             null|\n",
      "|             null|\n",
      "|             null|\n",
      "|             null|\n",
      "|             null|\n",
      "|             null|\n",
      "|             null|\n",
      "|             null|\n",
      "|             null|\n",
      "|             null|\n",
      "|             null|\n",
      "|             null|\n",
      "|             null|\n",
      "+-----------------+\n",
      "only showing top 100 rows\n",
      "\n"
     ]
    }
   ],
   "source": [
    "dftest2.select (year (dftest2[\"Last Update\"])).show(100)"
   ]
  },
  {
   "cell_type": "code",
   "execution_count": null,
   "id": "846a65c8",
   "metadata": {},
   "outputs": [],
   "source": []
  },
  {
   "cell_type": "code",
   "execution_count": null,
   "id": "d4fe9cd5",
   "metadata": {},
   "outputs": [],
   "source": []
  }
 ],
 "metadata": {
  "kernelspec": {
   "display_name": "Python 3",
   "language": "python",
   "name": "python3"
  },
  "language_info": {
   "codemirror_mode": {
    "name": "ipython",
    "version": 3
   },
   "file_extension": ".py",
   "mimetype": "text/x-python",
   "name": "python",
   "nbconvert_exporter": "python",
   "pygments_lexer": "ipython3",
   "version": "3.9.4"
  }
 },
 "nbformat": 4,
 "nbformat_minor": 5
}
