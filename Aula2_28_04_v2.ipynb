{
  "nbformat": 4,
  "nbformat_minor": 0,
  "metadata": {
    "colab": {
      "name": " Aula2_28_04_v2.ipynb",
      "provenance": [],
      "authorship_tag": "ABX9TyPWThOw8y9ggNrK9XctDZoE"
    },
    "kernelspec": {
      "name": "python3",
      "display_name": "Python 3"
    },
    "language_info": {
      "name": "python"
    }
  },
  "cells": [
    {
      "cell_type": "markdown",
      "metadata": {
        "id": "A07k0BfVu9eD"
      },
      "source": [
        "## **Exemplos tópico 6.Estruturas de Decisão Condicionais**"
      ]
    },
    {
      "cell_type": "code",
      "metadata": {
        "id": "oJt6eWZTumWF"
      },
      "source": [
        "  #Estrutura do if\n",
        "nota = float(input(\"Digite sua nota na disciplina:\"))\n",
        "\n",
        "if nota < 6.0:\n",
        "  print('Reprovado')"
      ],
      "execution_count": null,
      "outputs": []
    },
    {
      "cell_type": "code",
      "metadata": {
        "id": "y_PIwSsgvKN_"
      },
      "source": [
        "#Estrutura do if..else\n",
        "nota = float(input(\"Digite sua nota na disciplina:\"))\n",
        "\n",
        "if nota>= 6.0:\n",
        "  print('Aprovado!')\n",
        "else: # Atenção: Cuidado com a identação !\n",
        "  print('Reprovado!')"
      ],
      "execution_count": null,
      "outputs": []
    },
    {
      "cell_type": "code",
      "metadata": {
        "id": "wzzzyl2ivprd"
      },
      "source": [
        "#Estrutura do if...elif( else + if )...else\n",
        "idade = int(input(\"Digite sua idade\"))\n",
        "if idade <3:\n",
        "  print(Bebê)\n",
        "elif idade <10: # Atenção: Cuidado com a identação!\n",
        "  print('Infantil')\n",
        "elif idade <14:\n",
        "  print('Junio')\n",
        "elif idade <18:\n",
        "  print('Adolescente')\n",
        "elif idade <30:\n",
        "  print('Jovem')\n",
        "else:\n",
        "  print('Adulto')"
      ],
      "execution_count": null,
      "outputs": []
    },
    {
      "cell_type": "markdown",
      "metadata": {
        "id": "dLVFpAQcxLjC"
      },
      "source": [
        "## **Exemplos tópico 7.Estruturas de Repetição**"
      ]
    },
    {
      "cell_type": "code",
      "metadata": {
        "id": "0QDd84SwxJ1u"
      },
      "source": [
        "#Estrutura Laço While\n",
        "\n",
        "senha = \"54321\"\n",
        "leitura =\" \"\n",
        "\n",
        "while (leitura != senha):\n",
        "  leitura = input(\"Digite a senha:\")\n",
        "  if leitura == senha :\n",
        "    print('Acesso liberado')\n",
        "  else:\n",
        "    print('Senha incorreta.Tente novamente')"
      ],
      "execution_count": null,
      "outputs": []
    },
    {
      "cell_type": "code",
      "metadata": {
        "id": "QBbURx8uyhfu"
      },
      "source": [
        "#Estrutura Laço While - Soma 5 valores\n",
        "\n",
        "contador = 0 \n",
        "somador = 0\n",
        "while contador < 5:\n",
        "  contador = contador + 1\n",
        "  valor = float(input('Digite o '+str(contador)+'º valor:'))\n",
        "  somador = somador + valor\n",
        "print ('Soma = ',somador )"
      ],
      "execution_count": null,
      "outputs": []
    },
    {
      "cell_type": "code",
      "metadata": {
        "colab": {
          "base_uri": "https://localhost:8080/"
        },
        "id": "0mOliwjGzPrG",
        "outputId": "3df85538-5c10-44e8-de2d-12eccd214f1f"
      },
      "source": [
        "#Laço for\n",
        "#O range eh gerado por causa de uma sequencia numerica\n",
        "\n",
        "s=0\n",
        "for x in range(1,20,3):\n",
        "  s = s+x\n",
        "print('Soma = ', s)\n"
      ],
      "execution_count": null,
      "outputs": [
        {
          "output_type": "stream",
          "text": [
            "Soma =  70\n"
          ],
          "name": "stdout"
        }
      ]
    },
    {
      "cell_type": "code",
      "metadata": {
        "id": "KjF8zdrVtdPd"
      },
      "source": [
        "Lista_notas= [3.4,6.6,8,9,10,9.5,8.8,4.3]\n",
        "\n",
        "soma=0\n",
        "for nota in Lista_notas:\n",
        "  soma = soma+nota\n",
        "media = soma/len(Lista_notas)\n",
        "print('Média = ', ' {:.2f}'.format(media) )"
      ],
      "execution_count": null,
      "outputs": []
    },
    {
      "cell_type": "code",
      "metadata": {
        "colab": {
          "base_uri": "https://localhost:8080/"
        },
        "id": "JPZ-HviYuImt",
        "outputId": "dbd1acf9-c2a5-4ef0-8b6f-3d2958330072"
      },
      "source": [
        "def CalcMedia(lista):\n",
        "  soma=0\n",
        "  for nota in lista:\n",
        "    soma = soma+nota\n",
        "  return soma/len(lista)\n",
        "\n",
        "Lista_notas= [3.4,6.6,8,9,10,9.5,8.8,4.3]\n",
        "media = CalcMedia(Lista_notas)\n",
        "print('Media =', '{:.2f}'.format(media))"
      ],
      "execution_count": null,
      "outputs": [
        {
          "output_type": "stream",
          "text": [
            "Media = 7.45\n"
          ],
          "name": "stdout"
        }
      ]
    },
    {
      "cell_type": "code",
      "metadata": {
        "colab": {
          "base_uri": "https://localhost:8080/"
        },
        "id": "CHAGHqttgO7d",
        "outputId": "e3656742-1b2e-4d94-a68e-fc43285b0055"
      },
      "source": [
        "def categoria(idade):\n",
        "  if idade < 3:\n",
        "    ctg = 'Bebê'\n",
        "  elif idade < 10:\n",
        "    ctg = 'Infantil'\n",
        "  elif idade < 14:\n",
        "    ctg = 'Junior'\n",
        "  elif idade < 18:\n",
        "    ctg = 'Adolescente'\n",
        "  elif idade < 30:\n",
        "    ctg = 'Jovem'\n",
        "  else:\n",
        "    ctg = 'Adulto'\n",
        "    return ctg # Lembrar de identar o codigo corretamente; return dentro do else\n",
        "\n",
        "idd = int(input(\"Digite sua idade:\"))\n",
        "print(\"Sua categoria é:\", categoria(idd))   "
      ],
      "execution_count": null,
      "outputs": [
        {
          "output_type": "stream",
          "text": [
            "Digite sua idade:10\n",
            "Sua categoria é: None\n"
          ],
          "name": "stdout"
        }
      ]
    },
    {
      "cell_type": "code",
      "metadata": {
        "colab": {
          "base_uri": "https://localhost:8080/"
        },
        "id": "xRlO6sKFzm-u",
        "outputId": "6cd83a9c-ca44-485a-d02b-b7bc12fdcfbb"
      },
      "source": [
        "def categoria(idade):\n",
        "  if idade < 3:\n",
        "    ctg = 'Bebê'\n",
        "  elif idade < 10:\n",
        "    ctg = 'Infantil'\n",
        "  elif idade < 14:\n",
        "    ctg = 'Junior'\n",
        "  elif idade < 18:\n",
        "    ctg = 'Adolescente'\n",
        "  elif idade < 30:\n",
        "    ctg = 'Jovem'\n",
        "  else: ctg = 'Adulto'\n",
        "  return ctg\n",
        "\n",
        "idd = int(input(\"Digite sua idade:\"))\n",
        "print(\"Sua categoria é:\", categoria(idd)) "
      ],
      "execution_count": null,
      "outputs": [
        {
          "output_type": "stream",
          "text": [
            "Digite sua idade:23\n",
            "Sua categoria é: Jovem\n"
          ],
          "name": "stdout"
        }
      ]
    },
    {
      "cell_type": "code",
      "metadata": {
        "colab": {
          "base_uri": "https://localhost:8080/"
        },
        "id": "PXKG9VCi1BwE",
        "outputId": "5e2b84a1-6b46-4af6-dfbd-0bc18b660982"
      },
      "source": [
        "def MaiorValor(lista):\n",
        "  if len(lista) > 0:\n",
        "    maior = lista [0]\n",
        "  else:\n",
        "    maior = 0;\n",
        "  for valor in lista:\n",
        "    if valor > maior:\n",
        "      maior = valor\n",
        "  return maior\n",
        "\n",
        "ListaNotas = [3.4,6.6,8,9,10,9.5,8.8,4.3]\n",
        "resultado = MaiorValor(ListaNotas)\n",
        "print (resultado)"
      ],
      "execution_count": null,
      "outputs": [
        {
          "output_type": "stream",
          "text": [
            "10\n"
          ],
          "name": "stdout"
        }
      ]
    },
    {
      "cell_type": "code",
      "metadata": {
        "id": "7_Ld1Uar20Ie"
      },
      "source": [
        "def Leitura(lista,qtd):\n",
        "  for i in range(1,qtd+1):\n",
        "    lista.append(int(input(\"Digite o valor do elemento\")))\n",
        "\n",
        "ListaNotas = []\n",
        "Leitura(ListaNotas,5)\n",
        "print(ListaNotas)"
      ],
      "execution_count": null,
      "outputs": []
    },
    {
      "cell_type": "code",
      "metadata": {
        "id": "Rz5aIQzQ3SHZ"
      },
      "source": [
        "def cria():\n",
        "  d = {}\n",
        "  return d\n",
        "\n",
        "def inclui(d):\n",
        "  nome = input(\"Digite o nome a incluir: \")\n",
        "  if nome in d:\n",
        "    print(\"Nome já existe não pode ser incluido\")\n",
        "  else:\n",
        "    fone = input(\"Digite o fone:\")\n",
        "    d[nome]=fone\n",
        "\n",
        "def consulta(d):\n",
        "  nome = input(\"Digite o nome a consultar: \")\n",
        "  print(\"Telefone: \",d.get(nome,'Não disponivel'))\n",
        "\n",
        "def altera(d):\n",
        "  nome = input(\"Digite o nome do fone a alterar: \")\n",
        "  print(\"Telefone atual: \",d.get(nome,'Não disponivel' ))\n",
        "  if nome in d:\n",
        "    fone = input(\"Digite o novo fone: \")\n",
        "    d[nome]=fone\n",
        "    print(\"Telefone alterado!\")\n",
        "  else:\n",
        "    print(\"Telefone não pode ser alterado !\")\n",
        "\n",
        "def exclui(d):\n",
        "  nome = input(\"Digite o nome a excluir: \")\n",
        "  if nome in d:\n",
        "    del d[nome]\n",
        "    print(\"Nome e fone excluidos !\")\n",
        "  else:\n",
        "    print(\"Nome Inexistente !\")\n",
        "\n",
        "def mostra(d):\n",
        "  print(\"Agenda:\")\n",
        "  for nome in d.keys():\n",
        "    print(nome,d[nome])\n",
        "\n",
        "agenda = cria()\n",
        "inclui(agenda)\n",
        "inclui(agenda)\n",
        "inclui(agenda)\n",
        "consulta(agenda)\n",
        "altera(agenda)\n",
        "exclui(agenda)\n",
        "mostra(agenda)\n"
      ],
      "execution_count": null,
      "outputs": []
    },
    {
      "cell_type": "code",
      "metadata": {
        "id": "kiYrr2km7oIL"
      },
      "source": [
        "agenda = cria()\n",
        "opc = 10\n",
        "while opc!= 0:\n",
        "  opc = int(input(\"Digite 0.Sair,1.INC,2.Con,3.Alt,4.Exc,5.Most:\"))\n",
        "  if opc ==1:\n",
        "    inclui(agenda)\n",
        "  elif opc == 2:\n",
        "      consulta(agenda)\n",
        "  elif opc == 3:\n",
        "      aletra(agenda)\n",
        "  elif opc == 4:\n",
        "      exclui(agenda)\n",
        "  elif opc == 5:\n",
        "      mostra(agenda)\n",
        "  elif opc == 0:\n",
        "      print(\"Tchau,Tachu\")\n",
        "  else:\n",
        "      print(\"Opção Inválida!\")"
      ],
      "execution_count": null,
      "outputs": []
    },
    {
      "cell_type": "code",
      "metadata": {
        "colab": {
          "base_uri": "https://localhost:8080/"
        },
        "id": "mk78a0LI1jUR",
        "outputId": "56914ec2-d03a-4854-80c0-9effc1c72419"
      },
      "source": [
        "tempc = [23,18,32,16,21]\n",
        "tempf = []\n",
        "for i in tempc:\n",
        "  tempf.append((i * 9/5) + 32)\n",
        "print(tempc)\n",
        "print(tempf)"
      ],
      "execution_count": null,
      "outputs": [
        {
          "output_type": "stream",
          "text": [
            "[23, 18, 32, 16, 21]\n",
            "[73.4, 64.4, 89.6, 60.8, 69.8]\n"
          ],
          "name": "stdout"
        }
      ]
    },
    {
      "cell_type": "code",
      "metadata": {
        "colab": {
          "base_uri": "https://localhost:8080/"
        },
        "id": "8CCdUBOt8HgR",
        "outputId": "1377b3aa-5bf9-431e-d70a-5ae061be3f43"
      },
      "source": [
        "tempc = [23,18,32,16,21]\n",
        "tempf = list(map(lambda x: (x * 9/5)+ 32,tempc))\n",
        "print(tempc)\n",
        "print(tempf)"
      ],
      "execution_count": null,
      "outputs": [
        {
          "output_type": "stream",
          "text": [
            "[23, 18, 32, 16, 21]\n",
            "[73.4, 64.4, 89.6, 60.8, 69.8]\n"
          ],
          "name": "stdout"
        }
      ]
    },
    {
      "cell_type": "code",
      "metadata": {
        "colab": {
          "base_uri": "https://localhost:8080/"
        },
        "id": "Mo6bpOw88ghR",
        "outputId": "00a6ccbf-61c6-4058-ab5c-ca4c7de1160f"
      },
      "source": [
        "tempc = [23,18,32,16,21]\n",
        "tempf = [(x*9/5)+ 32 for x in tempc]\n",
        "print(tempc)\n",
        "print(tempf)"
      ],
      "execution_count": null,
      "outputs": [
        {
          "output_type": "stream",
          "text": [
            "[23, 18, 32, 16, 21]\n",
            "[73.4, 64.4, 89.6, 60.8, 69.8]\n"
          ],
          "name": "stdout"
        }
      ]
    },
    {
      "cell_type": "code",
      "metadata": {
        "colab": {
          "base_uri": "https://localhost:8080/"
        },
        "id": "-oxrFL_U9M6q",
        "outputId": "855770a5-381c-4c07-b9f9-ee7243018890"
      },
      "source": [
        "s = 'tokenizar'\n",
        "stk = [x for x in s]\n",
        "print(s)\n",
        "print(stk)"
      ],
      "execution_count": null,
      "outputs": [
        {
          "output_type": "stream",
          "text": [
            "tokenizar\n",
            "['t', 'o', 'k', 'e', 'n', 'i', 'z', 'a', 'r']\n"
          ],
          "name": "stdout"
        }
      ]
    },
    {
      "cell_type": "markdown",
      "metadata": {
        "id": "7ulYotE39roH"
      },
      "source": [
        "## **Exemplos tópico 8.NumPy**"
      ]
    },
    {
      "cell_type": "code",
      "metadata": {
        "id": "J35O-HEZ9qyS"
      },
      "source": [
        "import numpy as np"
      ],
      "execution_count": null,
      "outputs": []
    },
    {
      "cell_type": "code",
      "metadata": {
        "colab": {
          "base_uri": "https://localhost:8080/"
        },
        "id": "QKFo_0hw-EZb",
        "outputId": "1bf566e5-6d39-4094-983c-7a7eedb13b4c"
      },
      "source": [
        "a = np.array([12,34,26,18,10])\n",
        "# ira cria uma matriz unidimensional\n",
        "print(a)\n",
        "print(a.dtype)"
      ],
      "execution_count": null,
      "outputs": [
        {
          "output_type": "stream",
          "text": [
            "[12 34 26 18 10]\n",
            "int64\n"
          ],
          "name": "stdout"
        }
      ]
    },
    {
      "cell_type": "code",
      "metadata": {
        "colab": {
          "base_uri": "https://localhost:8080/"
        },
        "id": "DeYQDRGn-bvs",
        "outputId": "ec5f883c-17b3-4b75-8dea-daa0c37886cd"
      },
      "source": [
        "a1 = np.array([1, 2, 3], dtype = np.float64)\n",
        "# cria um array como float de 64 bits\n",
        "print(a1)\n",
        "print(a1.dtype)\n",
        "\n",
        "a2 = np.array([1, 2,3], dtype = np.int32)\n",
        "# cria um array como float de 64 bits\n",
        "print(a2)\n",
        "print(a2.dtype)"
      ],
      "execution_count": null,
      "outputs": [
        {
          "output_type": "stream",
          "text": [
            "[1. 2. 3.]\n",
            "float64\n",
            "[1 2 3]\n",
            "int32\n"
          ],
          "name": "stdout"
        }
      ]
    },
    {
      "cell_type": "code",
      "metadata": {
        "colab": {
          "base_uri": "https://localhost:8080/"
        },
        "id": "u7vzHp2d_Alm",
        "outputId": "ad6dfbd5-0adc-4e1e-ac97-f59713218599"
      },
      "source": [
        "a3 = np.array([1.4, 3.6, -5.1, 9.42, 4.999999, 4.4, -9.0 ])\n",
        "# tranformar tipo de dados de arrays\n",
        "print(a3)\n",
        "print(a3.dtype) # ira mostrar o array definido na variavel a3\n",
        "\n",
        "a4 =a3.astype(np.int32)\n",
        "# tranformar float para int ( os valores são truncados)\n",
        "print(a4)\n",
        "print(a4.dtype) # mostra o array a3 transformado para int na variavel a4\n",
        "\n",
        "a5 = np.array([1, 7, 8, 9])\n",
        "print(a5)\n",
        "print(a5.dtype)\n",
        "\n",
        "a6 = a5.astype(float)\n",
        "\n",
        "#realizando de forma inversa\n",
        "\n",
        "print(a6)\n",
        "print(a6.dtype)\n"
      ],
      "execution_count": null,
      "outputs": [
        {
          "output_type": "stream",
          "text": [
            "[ 1.4       3.6      -5.1       9.42      4.999999  4.4      -9.      ]\n",
            "float64\n",
            "[ 1  3 -5  9  4  4 -9]\n",
            "int32\n",
            "[1 7 8 9]\n",
            "int64\n",
            "[1. 7. 8. 9.]\n",
            "float64\n"
          ],
          "name": "stdout"
        }
      ]
    },
    {
      "cell_type": "code",
      "metadata": {
        "colab": {
          "base_uri": "https://localhost:8080/"
        },
        "id": "-XTXAajbpVj6",
        "outputId": "63965957-8a28-4628-ec4d-b3dbd5392547"
      },
      "source": [
        "b = np.array([[7,98,23], [11,27,4], [999,34,23]])\n",
        "print(b)"
      ],
      "execution_count": null,
      "outputs": [
        {
          "output_type": "stream",
          "text": [
            "[[  7  98  23]\n",
            " [ 11  27   4]\n",
            " [999  34  23]]\n"
          ],
          "name": "stdout"
        }
      ]
    },
    {
      "cell_type": "code",
      "metadata": {
        "id": "4VpzaPZitTbc",
        "colab": {
          "base_uri": "https://localhost:8080/"
        },
        "outputId": "ca809aeb-1ace-49f6-898a-59fdbcc8c27f"
      },
      "source": [
        "import numpy as np\n",
        "c = np.empty([3,2], dtype = int)\n",
        "print(c)"
      ],
      "execution_count": null,
      "outputs": [
        {
          "output_type": "stream",
          "text": [
            "[[94238670315248              0]\n",
            " [             0              0]\n",
            " [             0              0]]\n"
          ],
          "name": "stdout"
        }
      ]
    },
    {
      "cell_type": "code",
      "metadata": {
        "id": "1eRW2dMstTrM",
        "colab": {
          "base_uri": "https://localhost:8080/"
        },
        "outputId": "a64ae680-a950-4532-aaf2-a1b3ffe75677"
      },
      "source": [
        "d = np.zeros([4,3]) # ira criar uma matriz 4x3 com valores = 0 \n",
        "print(d)\n"
      ],
      "execution_count": null,
      "outputs": [
        {
          "output_type": "stream",
          "text": [
            "[[0. 0. 0.]\n",
            " [0. 0. 0.]\n",
            " [0. 0. 0.]\n",
            " [0. 0. 0.]]\n"
          ],
          "name": "stdout"
        }
      ]
    },
    {
      "cell_type": "code",
      "metadata": {
        "id": "odOkpgqytT0x",
        "colab": {
          "base_uri": "https://localhost:8080/"
        },
        "outputId": "042a4d42-2472-4063-8f8b-ae2d1a0b2dba"
      },
      "source": [
        "e = np.ones([2,2]) # ira criar uma matriz 2x2 com valores = 1\n",
        "print(e)"
      ],
      "execution_count": null,
      "outputs": [
        {
          "output_type": "stream",
          "text": [
            "[[1. 1.]\n",
            " [1. 1.]]\n"
          ],
          "name": "stdout"
        }
      ]
    },
    {
      "cell_type": "code",
      "metadata": {
        "id": "OURTN71ptT-J",
        "colab": {
          "base_uri": "https://localhost:8080/"
        },
        "outputId": "4878f257-f510-419f-f930-f8cea93e5ded"
      },
      "source": [
        "f = np.eye(5) # ira criar uma matriz quadrada com a diagonal com valores =1 e os outros valores =0\n",
        "print(f)\n"
      ],
      "execution_count": null,
      "outputs": [
        {
          "output_type": "stream",
          "text": [
            "[[1. 0. 0. 0. 0.]\n",
            " [0. 1. 0. 0. 0.]\n",
            " [0. 0. 1. 0. 0.]\n",
            " [0. 0. 0. 1. 0.]\n",
            " [0. 0. 0. 0. 1.]]\n"
          ],
          "name": "stdout"
        }
      ]
    },
    {
      "cell_type": "code",
      "metadata": {
        "colab": {
          "base_uri": "https://localhost:8080/"
        },
        "id": "Iw2Z-q-57vkb",
        "outputId": "5a4dc529-4bf0-468b-c902-c275a8d05277"
      },
      "source": [
        "g = np.random.random((5))\n",
        "print(g)"
      ],
      "execution_count": null,
      "outputs": [
        {
          "output_type": "stream",
          "text": [
            "[0.02213139 0.8005764  0.31434192 0.22655447 0.84212235]\n"
          ],
          "name": "stdout"
        }
      ]
    },
    {
      "cell_type": "code",
      "metadata": {
        "colab": {
          "base_uri": "https://localhost:8080/"
        },
        "id": "WENdJXLB75Hp",
        "outputId": "3911780d-536a-4e94-e593-005fdd240784"
      },
      "source": [
        "g2= np.random.randn((5))\n",
        "print(g2)"
      ],
      "execution_count": null,
      "outputs": [
        {
          "output_type": "stream",
          "text": [
            "[-0.3039127  -1.83266771  0.65960536 -0.41693885  0.59017652]\n"
          ],
          "name": "stdout"
        }
      ]
    },
    {
      "cell_type": "code",
      "metadata": {
        "colab": {
          "base_uri": "https://localhost:8080/"
        },
        "id": "0I50JxZL8iG9",
        "outputId": "29b07c68-e491-4590-a7b9-94762c4b5ecd"
      },
      "source": [
        "h =np.floor(10*np.random.random((3,4)))\n",
        "print(h)\n",
        "h = (10*np.random.random((3,4)))\n",
        "print (h)\n",
        "h = np.floor(h)\n",
        "print (h)"
      ],
      "execution_count": null,
      "outputs": [
        {
          "output_type": "stream",
          "text": [
            "[[0. 2. 2. 8.]\n",
            " [6. 4. 6. 7.]\n",
            " [3. 8. 4. 5.]]\n",
            "[[2.90900427 1.73789682 1.48506638 9.45436004]\n",
            " [3.53880952 8.62840633 4.56945215 9.98217553]\n",
            " [5.71361472 8.23986035 6.92162039 1.93122764]]\n",
            "[[2. 1. 1. 9.]\n",
            " [3. 8. 4. 9.]\n",
            " [5. 8. 6. 1.]]\n"
          ],
          "name": "stdout"
        }
      ]
    },
    {
      "cell_type": "code",
      "metadata": {
        "colab": {
          "base_uri": "https://localhost:8080/"
        },
        "id": "E_Rd-bvq8iY1",
        "outputId": "49304a10-1903-40e2-c566-ab57afd2a79f"
      },
      "source": [
        "gnr = np.random.default_rng(0)\n",
        "i = gnr.random(3)\n",
        "print(i)"
      ],
      "execution_count": null,
      "outputs": [
        {
          "output_type": "stream",
          "text": [
            "[0.63696169 0.26978671 0.04097352]\n"
          ],
          "name": "stdout"
        }
      ]
    },
    {
      "cell_type": "code",
      "metadata": {
        "id": "zKEU1Wsr8ifP"
      },
      "source": [
        ""
      ],
      "execution_count": null,
      "outputs": []
    },
    {
      "cell_type": "code",
      "metadata": {
        "id": "EYLGLjzo8k2x"
      },
      "source": [
        ""
      ],
      "execution_count": null,
      "outputs": []
    },
    {
      "cell_type": "code",
      "metadata": {
        "id": "BC8YSMrV8lAo"
      },
      "source": [
        ""
      ],
      "execution_count": null,
      "outputs": []
    }
  ]
}