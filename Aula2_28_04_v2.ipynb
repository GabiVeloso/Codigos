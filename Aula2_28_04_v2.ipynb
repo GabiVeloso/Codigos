{
  "nbformat": 4,
  "nbformat_minor": 0,
  "metadata": {
    "colab": {
      "name": " Aula2_28_04_v2.ipynb",
      "provenance": [],
      "collapsed_sections": [],
      "authorship_tag": "ABX9TyON7PVvWc4HU1XJX70SWt8o"
    },
    "kernelspec": {
      "name": "python3",
      "display_name": "Python 3"
    },
    "language_info": {
      "name": "python"
    }
  },
  "cells": [
    {
      "cell_type": "markdown",
      "metadata": {
        "id": "A07k0BfVu9eD"
      },
      "source": [
        "## **Exemplos tópico 6.Estruturas de Decisão Condicionais**"
      ]
    },
    {
      "cell_type": "code",
      "metadata": {
        "id": "oJt6eWZTumWF",
        "colab": {
          "base_uri": "https://localhost:8080/"
        },
        "outputId": "a51d010b-6861-4257-c29d-3b60bb0a44b6"
      },
      "source": [
        "#Estrutura do if\n",
        "nota = float(input(\"Digite sua nota na disciplina:\")) \n",
        "if nota < 6.0: \n",
        "  print('Reprovado!')"
      ],
      "execution_count": 71,
      "outputs": [
        {
          "output_type": "stream",
          "text": [
            "Digite sua nota na disciplina:6\n"
          ],
          "name": "stdout"
        }
      ]
    },
    {
      "cell_type": "code",
      "metadata": {
        "id": "y_PIwSsgvKN_",
        "colab": {
          "base_uri": "https://localhost:8080/"
        },
        "outputId": "55a5a608-560d-49b8-9d8a-70860c054d85"
      },
      "source": [
        "#Estrutura do if..else\n",
        "nota = float(input(\"Digite sua nota na disciplina:\"))\n",
        "\n",
        "if nota>= 6.0:\n",
        "  print('Aprovado!')\n",
        "else: # Atenção: Cuidado com a identação !\n",
        "  print('Reprovado!')"
      ],
      "execution_count": 72,
      "outputs": [
        {
          "output_type": "stream",
          "text": [
            "Digite sua nota na disciplina:6\n",
            "Aprovado!\n"
          ],
          "name": "stdout"
        }
      ]
    },
    {
      "cell_type": "code",
      "metadata": {
        "id": "wzzzyl2ivprd",
        "colab": {
          "base_uri": "https://localhost:8080/"
        },
        "outputId": "e641db03-1a6e-4f9e-fcba-785e89c68d3d"
      },
      "source": [
        "#Estrutura do if...elif( else + if )...else\n",
        "idade = int(input(\"Digite sua idade\"))\n",
        "if idade <3:\n",
        "  print(Bebê)\n",
        "elif idade <10: # Atenção: Cuidado com a identação!\n",
        "  print('Infantil')\n",
        "elif idade <14:\n",
        "  print('Junior')\n",
        "elif idade <18:\n",
        "  print('Adolescente')\n",
        "elif idade <30:\n",
        "  print('Jovem')\n",
        "else:\n",
        "  print('Adulto')"
      ],
      "execution_count": 73,
      "outputs": [
        {
          "output_type": "stream",
          "text": [
            "Digite sua idade27\n",
            "Jovem\n"
          ],
          "name": "stdout"
        }
      ]
    },
    {
      "cell_type": "markdown",
      "metadata": {
        "id": "dLVFpAQcxLjC"
      },
      "source": [
        "## **Exemplos tópico 7.Estruturas de Repetição**"
      ]
    },
    {
      "cell_type": "code",
      "metadata": {
        "id": "0QDd84SwxJ1u",
        "colab": {
          "base_uri": "https://localhost:8080/"
        },
        "outputId": "3c5980b3-470f-4919-de44-4d5dd192e2f2"
      },
      "source": [
        "#Estrutura Laço While\n",
        "\n",
        "senha = \"54321\"\n",
        "leitura =\" \"\n",
        "\n",
        "while (leitura != senha):\n",
        "  leitura = input(\"Digite a senha:\")\n",
        "  if leitura == senha :\n",
        "    print('Acesso liberado')\n",
        "  else:\n",
        "    print('Senha incorreta.Tente novamente')"
      ],
      "execution_count": 74,
      "outputs": [
        {
          "output_type": "stream",
          "text": [
            "Digite a senha:369852\n",
            "Senha incorreta.Tente novamente\n",
            "Digite a senha:54321\n",
            "Acesso liberado\n"
          ],
          "name": "stdout"
        }
      ]
    },
    {
      "cell_type": "code",
      "metadata": {
        "id": "QBbURx8uyhfu",
        "colab": {
          "base_uri": "https://localhost:8080/"
        },
        "outputId": "0d41fc0b-206b-482d-fb5d-314c49ae4e92"
      },
      "source": [
        "#Estrutura Laço While - Soma 5 valores\n",
        "\n",
        "contador = 0 \n",
        "somador = 0\n",
        "while contador < 5:\n",
        "  contador = contador + 1\n",
        "  valor = float(input('Digite o '+str(contador)+'º valor:'))\n",
        "  somador = somador + valor\n",
        "print ('Soma = ',somador )"
      ],
      "execution_count": 75,
      "outputs": [
        {
          "output_type": "stream",
          "text": [
            "Digite o 1º valor:5\n",
            "Digite o 2º valor:3\n",
            "Digite o 3º valor:7\n",
            "Digite o 4º valor:9\n",
            "Digite o 5º valor:5\n",
            "Soma =  29.0\n"
          ],
          "name": "stdout"
        }
      ]
    },
    {
      "cell_type": "code",
      "metadata": {
        "colab": {
          "base_uri": "https://localhost:8080/"
        },
        "id": "0mOliwjGzPrG",
        "outputId": "3df85538-5c10-44e8-de2d-12eccd214f1f"
      },
      "source": [
        "#Laço for\n",
        "#O range eh gerado por causa de uma sequencia numerica\n",
        "\n",
        "s=0\n",
        "for x in range(1,20,3):\n",
        "  s = s+x\n",
        "print('Soma = ', s)\n"
      ],
      "execution_count": null,
      "outputs": [
        {
          "output_type": "stream",
          "text": [
            "Soma =  70\n"
          ],
          "name": "stdout"
        }
      ]
    },
    {
      "cell_type": "code",
      "metadata": {
        "id": "KjF8zdrVtdPd",
        "colab": {
          "base_uri": "https://localhost:8080/"
        },
        "outputId": "5db1850a-1da7-472c-e72e-15334f023108"
      },
      "source": [
        "Lista_notas= [3.4,6.6,8,9,10,9.5,8.8,4.3]\n",
        "\n",
        "soma=0\n",
        "for nota in Lista_notas:\n",
        "  soma = soma+nota\n",
        "media = soma/len(Lista_notas)\n",
        "print('Média = ', ' {:.2f}'.format(media) )"
      ],
      "execution_count": 76,
      "outputs": [
        {
          "output_type": "stream",
          "text": [
            "Média =   7.45\n"
          ],
          "name": "stdout"
        }
      ]
    },
    {
      "cell_type": "code",
      "metadata": {
        "colab": {
          "base_uri": "https://localhost:8080/"
        },
        "id": "JPZ-HviYuImt",
        "outputId": "7ac95ec4-9eb2-4a0c-bb5a-ae2b476e7eed"
      },
      "source": [
        "def CalcMedia(lista):\n",
        "  soma=0\n",
        "  for nota in lista:\n",
        "    soma = soma+nota\n",
        "  return soma/len(lista)\n",
        "\n",
        "Lista_notas= [3.4,6.6,8,9,10,9.5,8.8,4.3]\n",
        "media = CalcMedia(Lista_notas)\n",
        "print('Media =', '{:.2f}'.format(media))"
      ],
      "execution_count": 77,
      "outputs": [
        {
          "output_type": "stream",
          "text": [
            "Media = 7.45\n"
          ],
          "name": "stdout"
        }
      ]
    },
    {
      "cell_type": "code",
      "metadata": {
        "colab": {
          "base_uri": "https://localhost:8080/"
        },
        "id": "CHAGHqttgO7d",
        "outputId": "1b0a1a2f-5a9a-4fab-a543-c9edaade6c59"
      },
      "source": [
        "def categoria(idade):\n",
        "  if idade < 3:\n",
        "    ctg = 'Bebê'\n",
        "  elif idade < 10:\n",
        "    ctg = 'Infantil'\n",
        "  elif idade < 14:\n",
        "    ctg = 'Junior'\n",
        "  elif idade < 18:\n",
        "    ctg = 'Adolescente'\n",
        "  elif idade < 30:\n",
        "    ctg = 'Jovem'\n",
        "  else:\n",
        "    ctg = 'Adulto'\n",
        "    return ctg # Lembrar de identar o codigo corretamente; return dentro do else\n",
        "\n",
        "idd = int(input(\"Digite sua idade:\"))\n",
        "print(\"Sua categoria é:\", categoria(idd))   "
      ],
      "execution_count": 78,
      "outputs": [
        {
          "output_type": "stream",
          "text": [
            "Digite sua idade:33\n",
            "Sua categoria é: Adulto\n"
          ],
          "name": "stdout"
        }
      ]
    },
    {
      "cell_type": "code",
      "metadata": {
        "colab": {
          "base_uri": "https://localhost:8080/"
        },
        "id": "xRlO6sKFzm-u",
        "outputId": "9d68e87d-c6ef-475c-c512-16ee60287aed"
      },
      "source": [
        "def categoria(idade):\n",
        "  if idade < 3:\n",
        "    ctg = 'Bebê'\n",
        "  elif idade < 10:\n",
        "    ctg = 'Infantil'\n",
        "  elif idade < 14:\n",
        "    ctg = 'Junior'\n",
        "  elif idade < 18:\n",
        "    ctg = 'Adolescente'\n",
        "  elif idade < 30:\n",
        "    ctg = 'Jovem'\n",
        "  else: ctg = 'Adulto'\n",
        "  return ctg\n",
        "\n",
        "idd = int(input(\"Digite sua idade:\"))\n",
        "print(\"Sua categoria é:\", categoria(idd)) "
      ],
      "execution_count": 79,
      "outputs": [
        {
          "output_type": "stream",
          "text": [
            "Digite sua idade:60\n",
            "Sua categoria é: Adulto\n"
          ],
          "name": "stdout"
        }
      ]
    },
    {
      "cell_type": "code",
      "metadata": {
        "colab": {
          "base_uri": "https://localhost:8080/"
        },
        "id": "PXKG9VCi1BwE",
        "outputId": "16c464df-ffe6-4cbb-c368-523def5cec96"
      },
      "source": [
        "def MaiorValor(lista):\n",
        "  if len(lista) > 0:\n",
        "    maior = lista [0]\n",
        "  else:\n",
        "    maior = 0;\n",
        "  for valor in lista:\n",
        "    if valor > maior:\n",
        "      maior = valor\n",
        "  return maior\n",
        "\n",
        "ListaNotas = [3.4,6.6,8,9,10,9.5,8.8,4.3]\n",
        "resultado = MaiorValor(ListaNotas)\n",
        "print (resultado)"
      ],
      "execution_count": 80,
      "outputs": [
        {
          "output_type": "stream",
          "text": [
            "10\n"
          ],
          "name": "stdout"
        }
      ]
    },
    {
      "cell_type": "code",
      "metadata": {
        "id": "7_Ld1Uar20Ie",
        "colab": {
          "base_uri": "https://localhost:8080/"
        },
        "outputId": "569fd24c-f017-45d8-8037-873fe070a095"
      },
      "source": [
        "def Leitura(lista,qtd):\n",
        "  for i in range(1,qtd+1):\n",
        "    lista.append(int(input(\"Digite o valor do elemento\")))\n",
        "\n",
        "ListaNotas = []\n",
        "Leitura(ListaNotas,5)\n",
        "print(ListaNotas)"
      ],
      "execution_count": 81,
      "outputs": [
        {
          "output_type": "stream",
          "text": [
            "Digite o valor do elemento2\n",
            "Digite o valor do elemento5\n",
            "Digite o valor do elemento3\n",
            "Digite o valor do elemento4\n",
            "Digite o valor do elemento1\n",
            "[2, 5, 3, 4, 1]\n"
          ],
          "name": "stdout"
        }
      ]
    },
    {
      "cell_type": "code",
      "metadata": {
        "id": "Rz5aIQzQ3SHZ",
        "colab": {
          "base_uri": "https://localhost:8080/"
        },
        "outputId": "ec65c1af-bc3d-4788-a146-6ca352762206"
      },
      "source": [
        "def cria():\n",
        "  d = {}\n",
        "  return d\n",
        "\n",
        "def inclui(d):\n",
        "  nome = input(\"Digite o nome a incluir: \")\n",
        "  if nome in d:\n",
        "    print(\"Nome já existe não pode ser incluido\")\n",
        "  else:\n",
        "    fone = input(\"Digite o fone:\")\n",
        "    d[nome]=fone\n",
        "\n",
        "def consulta(d):\n",
        "  nome = input(\"Digite o nome a consultar: \")\n",
        "  print(\"Telefone: \",d.get(nome,'Não disponivel'))\n",
        "\n",
        "def altera(d):\n",
        "  nome = input(\"Digite o nome do fone a alterar: \")\n",
        "  print(\"Telefone atual: \",d.get(nome,'Não disponivel' ))\n",
        "  if nome in d:\n",
        "    fone = input(\"Digite o novo fone: \")\n",
        "    d[nome]=fone\n",
        "    print(\"Telefone alterado!\")\n",
        "  else:\n",
        "    print(\"Telefone não pode ser alterado !\")\n",
        "\n",
        "def exclui(d):\n",
        "  nome = input(\"Digite o nome a excluir: \")\n",
        "  if nome in d:\n",
        "    del d[nome]\n",
        "    print(\"Nome e fone excluidos !\")\n",
        "  else:\n",
        "    print(\"Nome Inexistente !\")\n",
        "\n",
        "def mostra(d):\n",
        "  print(\"Agenda:\")\n",
        "  for nome in d.keys():\n",
        "    print(nome,d[nome])\n",
        "\n",
        "agenda = cria()\n",
        "inclui(agenda)\n",
        "inclui(agenda)\n",
        "inclui(agenda)\n",
        "consulta(agenda)\n",
        "altera(agenda)\n",
        "exclui(agenda)\n",
        "mostra(agenda)\n"
      ],
      "execution_count": 82,
      "outputs": [
        {
          "output_type": "stream",
          "text": [
            "Digite o nome a incluir: Veloso\n",
            "Digite o fone:14333333\n",
            "Digite o nome a incluir: Marcos\n",
            "Digite o fone:11009898\n",
            "Digite o nome a incluir: Luis\n",
            "Digite o fone:09888877\n",
            "Digite o nome a consultar: Marcos\n",
            "Telefone:  11009898\n",
            "Digite o nome do fone a alterar: 09888877\n",
            "Telefone atual:  Não disponivel\n",
            "Telefone não pode ser alterado !\n",
            "Digite o nome a excluir: Veloso\n",
            "Nome e fone excluidos !\n",
            "Agenda:\n",
            "Marcos 11009898\n",
            "Luis 09888877\n"
          ],
          "name": "stdout"
        }
      ]
    },
    {
      "cell_type": "code",
      "metadata": {
        "id": "kiYrr2km7oIL",
        "colab": {
          "base_uri": "https://localhost:8080/"
        },
        "outputId": "e4bcddbc-8a3b-4867-cc90-68b0a0a7f390"
      },
      "source": [
        "agenda = cria()\n",
        "opc = 10\n",
        "while opc!= 0:\n",
        "  opc = int(input(\"Digite 0.Sair,1.INC,2.Con,3.Alt,4.Exc,5.Most:\"))\n",
        "  if opc ==1:\n",
        "    inclui(agenda)\n",
        "  elif opc == 2:\n",
        "      consulta(agenda)\n",
        "  elif opc == 3:\n",
        "      aletra(agenda)\n",
        "  elif opc == 4:\n",
        "      exclui(agenda)\n",
        "  elif opc == 5:\n",
        "      mostra(agenda)\n",
        "  elif opc == 0:\n",
        "      print(\"Tchau,Tachu\")\n",
        "  else:\n",
        "      print(\"Opção Inválida!\")"
      ],
      "execution_count": 83,
      "outputs": [
        {
          "output_type": "stream",
          "text": [
            "Digite 0.Sair,1.INC,2.Con,3.Alt,4.Exc,5.Most:2\n",
            "Digite o nome a consultar: Marcos\n",
            "Telefone:  Não disponivel\n",
            "Digite 0.Sair,1.INC,2.Con,3.Alt,4.Exc,5.Most:0\n",
            "Tchau,Tachu\n"
          ],
          "name": "stdout"
        }
      ]
    },
    {
      "cell_type": "code",
      "metadata": {
        "colab": {
          "base_uri": "https://localhost:8080/"
        },
        "id": "mk78a0LI1jUR",
        "outputId": "a1127ba4-a3e5-4eac-8048-fa4e0d412e70"
      },
      "source": [
        "tempc = [23,18,32,16,21]\n",
        "tempf = []\n",
        "for i in tempc:\n",
        "  tempf.append((i * 9/5) + 32)\n",
        "print(tempc)\n",
        "print(tempf)"
      ],
      "execution_count": 84,
      "outputs": [
        {
          "output_type": "stream",
          "text": [
            "[23, 18, 32, 16, 21]\n",
            "[73.4, 64.4, 89.6, 60.8, 69.8]\n"
          ],
          "name": "stdout"
        }
      ]
    },
    {
      "cell_type": "code",
      "metadata": {
        "colab": {
          "base_uri": "https://localhost:8080/"
        },
        "id": "8CCdUBOt8HgR",
        "outputId": "69f2bf38-fd4b-4cbb-864f-616c578674d2"
      },
      "source": [
        "tempc = [23,18,32,16,21]\n",
        "tempf = list(map(lambda x: (x * 9/5)+ 32,tempc))\n",
        "print(tempc)\n",
        "print(tempf)"
      ],
      "execution_count": 85,
      "outputs": [
        {
          "output_type": "stream",
          "text": [
            "[23, 18, 32, 16, 21]\n",
            "[73.4, 64.4, 89.6, 60.8, 69.8]\n"
          ],
          "name": "stdout"
        }
      ]
    },
    {
      "cell_type": "code",
      "metadata": {
        "colab": {
          "base_uri": "https://localhost:8080/"
        },
        "id": "Mo6bpOw88ghR",
        "outputId": "dddeb4cc-e0b4-4be9-b358-b8964449ffb9"
      },
      "source": [
        "tempc = [23,18,32,16,21]\n",
        "tempf = [(x*9/5)+ 32 for x in tempc]\n",
        "print(tempc)\n",
        "print(tempf)"
      ],
      "execution_count": 86,
      "outputs": [
        {
          "output_type": "stream",
          "text": [
            "[23, 18, 32, 16, 21]\n",
            "[73.4, 64.4, 89.6, 60.8, 69.8]\n"
          ],
          "name": "stdout"
        }
      ]
    },
    {
      "cell_type": "code",
      "metadata": {
        "colab": {
          "base_uri": "https://localhost:8080/"
        },
        "id": "-oxrFL_U9M6q",
        "outputId": "135786f3-d52a-4397-fb78-084b46d54a9c"
      },
      "source": [
        "s = 'tokenizar'\n",
        "stk = [x for x in s]\n",
        "print(s)\n",
        "print(stk)"
      ],
      "execution_count": 87,
      "outputs": [
        {
          "output_type": "stream",
          "text": [
            "tokenizar\n",
            "['t', 'o', 'k', 'e', 'n', 'i', 'z', 'a', 'r']\n"
          ],
          "name": "stdout"
        }
      ]
    },
    {
      "cell_type": "markdown",
      "metadata": {
        "id": "7ulYotE39roH"
      },
      "source": [
        "## **Exemplos tópico 8.NumPy**"
      ]
    },
    {
      "cell_type": "code",
      "metadata": {
        "id": "J35O-HEZ9qyS"
      },
      "source": [
        "import numpy as np"
      ],
      "execution_count": 88,
      "outputs": []
    },
    {
      "cell_type": "code",
      "metadata": {
        "colab": {
          "base_uri": "https://localhost:8080/"
        },
        "id": "QKFo_0hw-EZb",
        "outputId": "af40e226-1bff-4824-9210-7c1a7f186604"
      },
      "source": [
        "a = np.array([12,34,26,18,10])\n",
        "# ira cria uma matriz unidimensional\n",
        "print(a)\n",
        "print(a.dtype)"
      ],
      "execution_count": 89,
      "outputs": [
        {
          "output_type": "stream",
          "text": [
            "[12 34 26 18 10]\n",
            "int64\n"
          ],
          "name": "stdout"
        }
      ]
    },
    {
      "cell_type": "code",
      "metadata": {
        "colab": {
          "base_uri": "https://localhost:8080/"
        },
        "id": "DeYQDRGn-bvs",
        "outputId": "0725b635-0bfe-4cf9-b6d8-9e5581eb9e29"
      },
      "source": [
        "a1 = np.array([1, 2, 3], dtype = np.float64)\n",
        "# cria um array como float de 64 bits\n",
        "print(a1)\n",
        "print(a1.dtype)\n",
        "\n",
        "a2 = np.array([1, 2,3], dtype = np.int32)\n",
        "# cria um array como float de 64 bits\n",
        "print(a2)\n",
        "print(a2.dtype)"
      ],
      "execution_count": 90,
      "outputs": [
        {
          "output_type": "stream",
          "text": [
            "[1. 2. 3.]\n",
            "float64\n",
            "[1 2 3]\n",
            "int32\n"
          ],
          "name": "stdout"
        }
      ]
    },
    {
      "cell_type": "code",
      "metadata": {
        "colab": {
          "base_uri": "https://localhost:8080/"
        },
        "id": "u7vzHp2d_Alm",
        "outputId": "6c189f2f-e25f-449e-9793-9c64801e3660"
      },
      "source": [
        "a3 = np.array([1.4, 3.6, -5.1, 9.42, 4.999999, 4.4, -9.0 ])\n",
        "# tranformar tipo de dados de arrays\n",
        "print(a3)\n",
        "print(a3.dtype) # ira mostrar o array definido na variavel a3\n",
        "\n",
        "a4 =a3.astype(np.int32)\n",
        "# tranformar float para int ( os valores são truncados)\n",
        "print(a4)\n",
        "print(a4.dtype) # mostra o array a3 transformado para int na variavel a4\n",
        "\n",
        "a5 = np.array([1, 7, 8, 9])\n",
        "print(a5)\n",
        "print(a5.dtype)\n",
        "\n",
        "a6 = a5.astype(float)\n",
        "\n",
        "#realizando de forma inversa\n",
        "\n",
        "print(a6)\n",
        "print(a6.dtype)\n"
      ],
      "execution_count": 91,
      "outputs": [
        {
          "output_type": "stream",
          "text": [
            "[ 1.4       3.6      -5.1       9.42      4.999999  4.4      -9.      ]\n",
            "float64\n",
            "[ 1  3 -5  9  4  4 -9]\n",
            "int32\n",
            "[1 7 8 9]\n",
            "int64\n",
            "[1. 7. 8. 9.]\n",
            "float64\n"
          ],
          "name": "stdout"
        }
      ]
    },
    {
      "cell_type": "code",
      "metadata": {
        "colab": {
          "base_uri": "https://localhost:8080/"
        },
        "id": "-XTXAajbpVj6",
        "outputId": "bfc9a474-8d40-471f-914c-0e3e622b9293"
      },
      "source": [
        "b = np.array([[7,98,23], [11,27,4], [999,34,23]])\n",
        "print(b)"
      ],
      "execution_count": 92,
      "outputs": [
        {
          "output_type": "stream",
          "text": [
            "[[  7  98  23]\n",
            " [ 11  27   4]\n",
            " [999  34  23]]\n"
          ],
          "name": "stdout"
        }
      ]
    },
    {
      "cell_type": "code",
      "metadata": {
        "id": "4VpzaPZitTbc",
        "colab": {
          "base_uri": "https://localhost:8080/"
        },
        "outputId": "19c40d95-69f9-4f6a-dd88-8a227d9a422c"
      },
      "source": [
        "import numpy as np\n",
        "c = np.empty([3,2], dtype = int)\n",
        "print(c)"
      ],
      "execution_count": 93,
      "outputs": [
        {
          "output_type": "stream",
          "text": [
            "[[3 3]\n",
            " [5 5]\n",
            " [7 7]]\n"
          ],
          "name": "stdout"
        }
      ]
    },
    {
      "cell_type": "code",
      "metadata": {
        "id": "1eRW2dMstTrM",
        "colab": {
          "base_uri": "https://localhost:8080/"
        },
        "outputId": "2e41a4fd-491e-41ca-a87a-9e048ca1f9a4"
      },
      "source": [
        "d = np.zeros([4,3]) # ira criar uma matriz 4x3 com valores = 0 \n",
        "print(d)\n"
      ],
      "execution_count": 94,
      "outputs": [
        {
          "output_type": "stream",
          "text": [
            "[[0. 0. 0.]\n",
            " [0. 0. 0.]\n",
            " [0. 0. 0.]\n",
            " [0. 0. 0.]]\n"
          ],
          "name": "stdout"
        }
      ]
    },
    {
      "cell_type": "code",
      "metadata": {
        "id": "odOkpgqytT0x",
        "colab": {
          "base_uri": "https://localhost:8080/"
        },
        "outputId": "eb62becf-a83d-4568-fcc4-30a9d862b752"
      },
      "source": [
        "e = np.ones([2,2]) # ira criar uma matriz 2x2 com valores = 1\n",
        "print(e)"
      ],
      "execution_count": 95,
      "outputs": [
        {
          "output_type": "stream",
          "text": [
            "[[1. 1.]\n",
            " [1. 1.]]\n"
          ],
          "name": "stdout"
        }
      ]
    },
    {
      "cell_type": "code",
      "metadata": {
        "id": "OURTN71ptT-J",
        "colab": {
          "base_uri": "https://localhost:8080/"
        },
        "outputId": "89aa9aca-7265-4f6b-dfea-5cbce2616c70"
      },
      "source": [
        "f = np.eye(5) # ira criar uma matriz quadrada com a diagonal com valores =1 e os outros valores =0\n",
        "print(f)\n"
      ],
      "execution_count": 96,
      "outputs": [
        {
          "output_type": "stream",
          "text": [
            "[[1. 0. 0. 0. 0.]\n",
            " [0. 1. 0. 0. 0.]\n",
            " [0. 0. 1. 0. 0.]\n",
            " [0. 0. 0. 1. 0.]\n",
            " [0. 0. 0. 0. 1.]]\n"
          ],
          "name": "stdout"
        }
      ]
    },
    {
      "cell_type": "code",
      "metadata": {
        "colab": {
          "base_uri": "https://localhost:8080/"
        },
        "id": "Iw2Z-q-57vkb",
        "outputId": "c41e59a8-ca88-44b1-ea7f-75f93e0a1706"
      },
      "source": [
        "g = np.random.random((5))\n",
        "print(g)"
      ],
      "execution_count": 97,
      "outputs": [
        {
          "output_type": "stream",
          "text": [
            "[0.76654517 0.64747876 0.64924296 0.16870528 0.52994182]\n"
          ],
          "name": "stdout"
        }
      ]
    },
    {
      "cell_type": "code",
      "metadata": {
        "colab": {
          "base_uri": "https://localhost:8080/"
        },
        "id": "WENdJXLB75Hp",
        "outputId": "a55c888e-5115-4b1c-918a-0f63e6a85bba"
      },
      "source": [
        "g2= np.random.randn((5))\n",
        "print(g2)"
      ],
      "execution_count": 98,
      "outputs": [
        {
          "output_type": "stream",
          "text": [
            "[-0.17482929  0.27743042 -1.85926076  0.31161634 -0.81525678]\n"
          ],
          "name": "stdout"
        }
      ]
    },
    {
      "cell_type": "code",
      "metadata": {
        "colab": {
          "base_uri": "https://localhost:8080/"
        },
        "id": "0I50JxZL8iG9",
        "outputId": "4ec82131-b5ed-4c03-a872-ac8ce46199d9"
      },
      "source": [
        "h =np.floor(10*np.random.random((3,4)))\n",
        "print(h)\n",
        "h = (10*np.random.random((3,4)))\n",
        "print (h)\n",
        "h = np.floor(h)\n",
        "print (h)"
      ],
      "execution_count": 99,
      "outputs": [
        {
          "output_type": "stream",
          "text": [
            "[[1. 7. 2. 3.]\n",
            " [7. 3. 6. 1.]\n",
            " [3. 3. 3. 2.]]\n",
            "[[5.64620385 8.98087024 8.68492541 4.64610527]\n",
            " [2.42764784 0.01832383 6.77071148 4.97718746]\n",
            " [9.81491472 9.357615   8.46424036 9.49814548]]\n",
            "[[5. 8. 8. 4.]\n",
            " [2. 0. 6. 4.]\n",
            " [9. 9. 8. 9.]]\n"
          ],
          "name": "stdout"
        }
      ]
    },
    {
      "cell_type": "code",
      "metadata": {
        "colab": {
          "base_uri": "https://localhost:8080/"
        },
        "id": "E_Rd-bvq8iY1",
        "outputId": "26769723-3618-4963-e001-e3438bdd256a"
      },
      "source": [
        "gnr = np.random.default_rng(0)\n",
        "i = gnr.random(3)\n",
        "print(i)"
      ],
      "execution_count": 100,
      "outputs": [
        {
          "output_type": "stream",
          "text": [
            "[0.63696169 0.26978671 0.04097352]\n"
          ],
          "name": "stdout"
        }
      ]
    },
    {
      "cell_type": "code",
      "metadata": {
        "id": "zKEU1Wsr8ifP",
        "colab": {
          "base_uri": "https://localhost:8080/"
        },
        "outputId": "fc7ac7e6-e5df-4208-f55f-0b7378144b56"
      },
      "source": [
        " i = gnr.integers(10, size=(3,4))\n",
        " print(i)"
      ],
      "execution_count": 101,
      "outputs": [
        {
          "output_type": "stream",
          "text": [
            "[[0 0 1 8]\n",
            " [6 9 5 6]\n",
            " [9 7 6 5]]\n"
          ],
          "name": "stdout"
        }
      ]
    },
    {
      "cell_type": "code",
      "metadata": {
        "id": "EYLGLjzo8k2x",
        "colab": {
          "base_uri": "https://localhost:8080/"
        },
        "outputId": "b2a89a2d-f035-4adb-8bb7-9a69908f650d"
      },
      "source": [
        "j = np.array([11, 12, 12, 13, 14, 15, 16, 17,18, 19,20])\n",
        "j = np.unique(j)\n",
        "print(j)"
      ],
      "execution_count": 102,
      "outputs": [
        {
          "output_type": "stream",
          "text": [
            "[11 12 13 14 15 16 17 18 19 20]\n"
          ],
          "name": "stdout"
        }
      ]
    },
    {
      "cell_type": "code",
      "metadata": {
        "id": "BC8YSMrV8lAo",
        "colab": {
          "base_uri": "https://localhost:8080/"
        },
        "outputId": "a8a268cb-5c4a-4115-b361-8d70a76c7211"
      },
      "source": [
        "k = np.array([[17,22,43], [27,25,14],[15,24,32]]) # criação de uma matriz bidimensional denominada k\n",
        "print(k)\n",
        "print(k[0][1])\n",
        "print(k.shape)\n",
        "print(k.max())\n",
        "print(k.min())\n",
        "print(k.sum())\n",
        "print(k.mean())\n",
        "print(k.std()) # Desvio padrão dos valores da matriz k\n"
      ],
      "execution_count": 103,
      "outputs": [
        {
          "output_type": "stream",
          "text": [
            "[[17 22 43]\n",
            " [27 25 14]\n",
            " [15 24 32]]\n",
            "22\n",
            "(3, 3)\n",
            "43\n",
            "14\n",
            "219\n",
            "24.333333333333332\n",
            "8.615231988880057\n"
          ],
          "name": "stdout"
        }
      ]
    },
    {
      "cell_type": "code",
      "metadata": {
        "colab": {
          "base_uri": "https://localhost:8080/"
        },
        "id": "RiojnlFCZhtF",
        "outputId": "269fc9de-16d9-4ce5-ce6c-62f1b9890eca"
      },
      "source": [
        "k1 = np.array([1, 4, 9, 16, 25, 36])\n",
        "\n",
        "print(np.sqrt(k1)) # raiz quadrada de todos os elementos\n",
        "print(np.exp(k1)) # exponencial de todos os elementos"
      ],
      "execution_count": 104,
      "outputs": [
        {
          "output_type": "stream",
          "text": [
            "[1. 2. 3. 4. 5. 6.]\n",
            "[2.71828183e+00 5.45981500e+01 8.10308393e+03 8.88611052e+06\n",
            " 7.20048993e+10 4.31123155e+15]\n"
          ],
          "name": "stdout"
        }
      ]
    },
    {
      "cell_type": "code",
      "metadata": {
        "colab": {
          "base_uri": "https://localhost:8080/"
        },
        "id": "SP28HEeIZ15T",
        "outputId": "48bd3ea6-da57-4ac9-eb3b-ebfb6a947a71"
      },
      "source": [
        "l = np.array([[4, 5],[6, 1],[7,4]])\n",
        "print(l)\n",
        "l_linha_1 =l[0, :]\n",
        "print(l_linha_1)\n",
        "l_linha_2 =l[1, :]\n",
        "print(l_linha_2)\n",
        "l_linha_3 =l[2, :]\n",
        "print(l_linha_3)\n",
        "l_linha_l =l[:, 0]\n",
        "print(l_linha_1)\n",
        "l_linha_2 = l[:, 1]\n",
        "print(l_linha_2)"
      ],
      "execution_count": 105,
      "outputs": [
        {
          "output_type": "stream",
          "text": [
            "[[4 5]\n",
            " [6 1]\n",
            " [7 4]]\n",
            "[4 5]\n",
            "[6 1]\n",
            "[7 4]\n",
            "[4 5]\n",
            "[5 1 4]\n"
          ],
          "name": "stdout"
        }
      ]
    },
    {
      "cell_type": "code",
      "metadata": {
        "colab": {
          "base_uri": "https://localhost:8080/"
        },
        "id": "lBwFuX0UbGIk",
        "outputId": "c38a02cc-8a7c-4a7a-9a55-80f508983a56"
      },
      "source": [
        "m = np.array([1, 2, 3, 4, 5, 6])\n",
        "print(m[1]) # mostra o elemento da posição 2\n",
        "\n",
        "print(m[0:2]) # mostra o array criado a partir da posição 0\n",
        "\n",
        "print(m[1:]) # mostra o array criado a partir da 2a posição\n",
        "\n",
        "print(m[-3:]) #mostra o array criado a partir da antepenultima posição até o final"
      ],
      "execution_count": 106,
      "outputs": [
        {
          "output_type": "stream",
          "text": [
            "2\n",
            "[1 2]\n",
            "[2 3 4 5 6]\n",
            "[4 5 6]\n"
          ],
          "name": "stdout"
        }
      ]
    },
    {
      "cell_type": "code",
      "metadata": {
        "colab": {
          "base_uri": "https://localhost:8080/"
        },
        "id": "TKBnOMBVbZjA",
        "outputId": "77044454-7a91-4145-d3b1-1a475cb2d377"
      },
      "source": [
        "n = np.array([[1, 2], [3,4]])\n",
        "o = np.array([[1,1], [1,1]])\n",
        "res1 = n+o \n",
        "print(res1)\n",
        "\n",
        "res2 = n*o\n",
        "print(res2)"
      ],
      "execution_count": 107,
      "outputs": [
        {
          "output_type": "stream",
          "text": [
            "[[2 3]\n",
            " [4 5]]\n",
            "[[1 2]\n",
            " [3 4]]\n"
          ],
          "name": "stdout"
        }
      ]
    },
    {
      "cell_type": "code",
      "metadata": {
        "colab": {
          "base_uri": "https://localhost:8080/"
        },
        "id": "St2T0NQ_b2tn",
        "outputId": "864e63f2-d1a0-412a-c074-0e6cc03249a7"
      },
      "source": [
        "p = np.array([[1, 2], [3, 4],[5,6]])\n",
        "q = np.array([[2, 1]])\n",
        "print(p+q)"
      ],
      "execution_count": 108,
      "outputs": [
        {
          "output_type": "stream",
          "text": [
            "[[3 3]\n",
            " [5 5]\n",
            " [7 7]]\n"
          ],
          "name": "stdout"
        }
      ]
    },
    {
      "cell_type": "code",
      "metadata": {
        "colab": {
          "base_uri": "https://localhost:8080/"
        },
        "id": "qK_C7BDBcGoN",
        "outputId": "62396279-4e3a-4b65-b627-45fb7d76054d"
      },
      "source": [
        "r = np.arange(15).reshape((3, 5))\n",
        "print(r)\n",
        "\n",
        "s=r.T\n",
        "print(s)"
      ],
      "execution_count": 109,
      "outputs": [
        {
          "output_type": "stream",
          "text": [
            "[[ 0  1  2  3  4]\n",
            " [ 5  6  7  8  9]\n",
            " [10 11 12 13 14]]\n",
            "[[ 0  5 10]\n",
            " [ 1  6 11]\n",
            " [ 2  7 12]\n",
            " [ 3  8 13]\n",
            " [ 4  9 14]]\n"
          ],
          "name": "stdout"
        }
      ]
    },
    {
      "cell_type": "code",
      "metadata": {
        "colab": {
          "base_uri": "https://localhost:8080/"
        },
        "id": "5R2i84C2cUVM",
        "outputId": "3735a92e-d373-4655-d36a-4d75f293f43c"
      },
      "source": [
        "r = np.arange(15).reshape((3, 5))\n",
        "print(r)\n",
        "\n",
        "# matrizes transposta entre linhas e colunas\n",
        "s=r.transpose((1,0))\n",
        "print(s)"
      ],
      "execution_count": 110,
      "outputs": [
        {
          "output_type": "stream",
          "text": [
            "[[ 0  1  2  3  4]\n",
            " [ 5  6  7  8  9]\n",
            " [10 11 12 13 14]]\n",
            "[[ 0  5 10]\n",
            " [ 1  6 11]\n",
            " [ 2  7 12]\n",
            " [ 3  8 13]\n",
            " [ 4  9 14]]\n"
          ],
          "name": "stdout"
        }
      ]
    },
    {
      "cell_type": "code",
      "metadata": {
        "colab": {
          "base_uri": "https://localhost:8080/"
        },
        "id": "C8K8fiDpasac",
        "outputId": "a9f1d716-1b61-4ae3-e9b3-cceb2fffcc72"
      },
      "source": [
        "t = np.arange(16).reshape((2, 2, 4))\n",
        "print(t)\n",
        "# rearranjando as linhas\n",
        "# trocamos de posição os eixos 0 e 1 do array\n",
        "u = t.transpose((1, 0, 2))\n",
        "print(u)"
      ],
      "execution_count": 111,
      "outputs": [
        {
          "output_type": "stream",
          "text": [
            "[[[ 0  1  2  3]\n",
            "  [ 4  5  6  7]]\n",
            "\n",
            " [[ 8  9 10 11]\n",
            "  [12 13 14 15]]]\n",
            "[[[ 0  1  2  3]\n",
            "  [ 8  9 10 11]]\n",
            "\n",
            " [[ 4  5  6  7]\n",
            "  [12 13 14 15]]]\n"
          ],
          "name": "stdout"
        }
      ]
    },
    {
      "cell_type": "code",
      "metadata": {
        "colab": {
          "base_uri": "https://localhost:8080/"
        },
        "id": "WuDeLRYkcuHc",
        "outputId": "942fd737-7fb5-4805-80a9-c40f5cb64b1f"
      },
      "source": [
        "t = np.arange(16).reshape((2, 2, 4))\n",
        "print(t)\n",
        "\n",
        "u = t.swapaxes(1, 2)\n",
        "print(u)"
      ],
      "execution_count": 112,
      "outputs": [
        {
          "output_type": "stream",
          "text": [
            "[[[ 0  1  2  3]\n",
            "  [ 4  5  6  7]]\n",
            "\n",
            " [[ 8  9 10 11]\n",
            "  [12 13 14 15]]]\n",
            "[[[ 0  4]\n",
            "  [ 1  5]\n",
            "  [ 2  6]\n",
            "  [ 3  7]]\n",
            "\n",
            " [[ 8 12]\n",
            "  [ 9 13]\n",
            "  [10 14]\n",
            "  [11 15]]]\n"
          ],
          "name": "stdout"
        }
      ]
    },
    {
      "cell_type": "code",
      "metadata": {
        "colab": {
          "base_uri": "https://localhost:8080/"
        },
        "id": "HlafIM-cdAYm",
        "outputId": "8f6482c4-1fab-4e31-af55-cfc26dac2cea"
      },
      "source": [
        "v = np.random.randn(4, 4)\n",
        "print(v)\n",
        "# matriz com valores positivos e negativos de forma aleatória\n",
        "x =(v >0) \n",
        "# matriz com valores booleanos \n",
        "print(x)\n",
        "z =np.where(x >0, 1, -1)\n",
        "# matriz com valores -1 e 1 np array x\n",
        "print(z)"
      ],
      "execution_count": 113,
      "outputs": [
        {
          "output_type": "stream",
          "text": [
            "[[-0.57652878 -0.13340039 -0.67929892  0.69686125]\n",
            " [-0.83310734 -0.75641096 -0.55527866  1.01860495]\n",
            " [-1.55180611 -0.02877086 -1.29228415  1.24586457]\n",
            " [ 0.99087991  0.24325346 -0.47186964 -0.65260922]]\n",
            "[[False False False  True]\n",
            " [False False False  True]\n",
            " [False False False  True]\n",
            " [ True  True False False]]\n",
            "[[-1 -1 -1  1]\n",
            " [-1 -1 -1  1]\n",
            " [-1 -1 -1  1]\n",
            " [ 1  1 -1 -1]]\n"
          ],
          "name": "stdout"
        }
      ]
    }
  ]
}